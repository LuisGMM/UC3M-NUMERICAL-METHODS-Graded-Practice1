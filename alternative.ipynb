{
 "cells": [
  {
   "cell_type": "code",
   "execution_count": 76,
   "metadata": {},
   "outputs": [],
   "source": [
    "import numpy as np\n",
    "import matplotlib.pyplot as plt"
   ]
  },
  {
   "cell_type": "code",
   "execution_count": 3,
   "metadata": {},
   "outputs": [],
   "source": [
    "#Aqui va las cosas de integrar\n",
    "\n",
    "def funcion_trapezoid(f, a, b, m):\n",
    "\n",
    "    valores_x = np.linspace(a, b, m+1)\n",
    "    valores_f = f(valores_x)\n",
    "    \n",
    "    cociente = (b-a) / (m)\n",
    "\n",
    "    sumatorio = 0 \n",
    "\n",
    "    for indice in range(len(valores_f)-1):\n",
    "        sumatorio += valores_f[indice] + valores_f[indice+1]\n",
    "\n",
    "    return cociente / 2 * sumatorio\n",
    "\n",
    "def funcion_simpson(f, a, b, m):\n",
    "    valores_x = np.linspace(a, b, m+1)\n",
    "    valores_f = f(valores_x)\n",
    "    \n",
    "    cociente = (b-a) / (m)\n",
    "\n",
    "    sumatorio_pares = 0 \n",
    "    sumatorio_impares = 0 \n",
    "\n",
    "    for indice in range(1, len(valores_f)-1):\n",
    "\n",
    "        if indice % 2 == 0:\n",
    "            sumatorio_pares += valores_f[indice] \n",
    "\n",
    "    for indice in range(0, len(valores_f)-1):\n",
    "\n",
    "        if indice % 2 != 0:\n",
    "            sumatorio_impares += valores_f[indice] \n",
    "\n",
    "    return cociente / 3 * (valores_f[0] + 2*sumatorio_pares + 4*sumatorio_impares + valores_f[len(valores_f)-1])\n",
    "\n"
   ]
  },
  {
   "cell_type": "code",
   "execution_count": 4,
   "metadata": {},
   "outputs": [
    {
     "name": "stdout",
     "output_type": "stream",
     "text": [
      "1.4887366795273342\n",
      "1.493674109820692\n"
     ]
    }
   ],
   "source": [
    "# Aquí compruebas con los ejemplos de la teoria que estan bien programados\n",
    "a = -1\n",
    "b = 1\n",
    "m = 10\n",
    "f = lambda x: np.exp(-x**2)\n",
    "\n",
    "print(funcion_trapezoid(f, a, b, m))\n",
    "print(funcion_simpson(f, a, b, m))"
   ]
  },
  {
   "cell_type": "code",
   "execution_count": 74,
   "metadata": {},
   "outputs": [],
   "source": [
    "# Aquí va newton\n",
    "\n",
    "def funcion_newton(f, f_prima, x0, error):\n",
    "    \n",
    "    indice = 0\n",
    "    sol = [x0]\n",
    "    \n",
    "    while True:\n",
    "        # print('Newton: ', sol[indice], '\\t', f(sol[indice]), '\\t', f_prima(sol[indice]))\n",
    "\n",
    "        if f_prima(sol[indice]) == 0:\n",
    "            sol.append(sol[indice] + 1)\n",
    "        else:\n",
    "            sol.append(sol[indice] - f(sol[indice]) / f_prima(sol[indice]))\n",
    "        \n",
    "        if abs( sol[indice + 1] - sol[indice] ) < error:\n",
    "            return sol[indice]\n",
    "        \n",
    "        indice += 1\n",
    "\n"
   ]
  },
  {
   "cell_type": "code",
   "execution_count": 46,
   "metadata": {},
   "outputs": [
    {
     "data": {
      "text/plain": [
       "1.0000305180437934"
      ]
     },
     "execution_count": 46,
     "metadata": {},
     "output_type": "execute_result"
    }
   ],
   "source": [
    "# Aquí compruebas con los ejemplos de la teoria que estan bien programados\n",
    "\n",
    "f = lambda x: x**2 - 1\n",
    "f_derivada = lambda x: 2*x\n",
    "\n",
    "funcion_newton(f, f_derivada, 3, 0.0001)"
   ]
  },
  {
   "cell_type": "code",
   "execution_count": 101,
   "metadata": {},
   "outputs": [],
   "source": [
    "# Aqui van los euler \n",
    "\n",
    "def funcion_euler_explicito(f_prima, f0, x0, x, h):\n",
    "    \n",
    "    t_ = np.arange(x0, x0+x, h)\n",
    "    N = len(t_)\n",
    "\n",
    "    u = np.zeros_like(t_)\n",
    "    u[0] = f0\n",
    " \n",
    "    for i in range(N-1):\n",
    "        u[i+1] = u[i] + h * f_prima(u[i], t_[i])\n",
    "    \n",
    "    return u\n",
    "\n",
    "# def funcion_euler_implicito(f_prima, f_prima_prima, f0, x0, x, h, error_newton):\n",
    "    \n",
    "#     t_ = np.arange(x0, x0+x, h)\n",
    "#     N = len(t_)\n",
    "\n",
    "#     u = np.zeros_like(t_)\n",
    "#     u[0] = f0\n",
    "        \n",
    "#     for i in range(N-1):        \n",
    "        \n",
    "#         def g(y):\n",
    "#             return u[i] - u[i+1] + h*f_prima(y, t_[i+1])\n",
    "        \n",
    "#         def g_prima(y): \n",
    "#             return -1 + h*f_prima_prima(y, t_[i+1])\n",
    "        \n",
    "#         u[i+1] = funcion_newton(g, g_prima, u[i], error_newton)\n",
    "\n",
    "#     return u\n",
    "\n",
    "def funcion_euler_implicito(f_prima, f0, x0, x, h):\n",
    "    \n",
    "    t_ = np.arange(x0, x0+x, h)\n",
    "    N = len(t_)\n",
    "\n",
    "    u = np.zeros_like(t_)\n",
    "    u[0] = f0\n",
    "        \n",
    "    for i in range(N-1):        \n",
    "        \n",
    "        u[i+1] =  u[i]  + h*f_prima(None, t_[i+1])\n",
    "\n",
    "    return u"
   ]
  },
  {
   "cell_type": "code",
   "execution_count": null,
   "metadata": {},
   "outputs": [],
   "source": [
    "# Testeo de los metodos euler"
   ]
  },
  {
   "cell_type": "markdown",
   "metadata": {},
   "source": [
    "## Ejercicio 1\n"
   ]
  },
  {
   "cell_type": "code",
   "execution_count": 56,
   "metadata": {},
   "outputs": [
    {
     "name": "stdout",
     "output_type": "stream",
     "text": [
      "1.6448536257046285\n",
      "1.644853625667597\n"
     ]
    }
   ],
   "source": [
    "# Definimos la derivada del algoritmo de Newton\n",
    "def f_derivada(x):\n",
    "    return 1 / np.sqrt(2*np.pi) * np.exp(-x**2 / 2)\n",
    "\n",
    "error = 1e-5 # El criterio de parada del algoritmo (es la diferencia máxima entre las dos ultimas iteraciones del algoritmo)\n",
    "p0 = 0.5 # La que creemos que es la raiz. Se usa como punto de partdia del algoritmo\n",
    "x0 = p0\n",
    "constante_de_integracion = -0.45\n",
    "\n",
    "intervalos_composite = 100000 # La cantidad de intervalos de los metodos trapezoid y simpson\n",
    "\n",
    "# Definimos una funcion que nos devuelva la integral por trapezoid de 0 a x\n",
    "def f_por_trapezoid(x):\n",
    "    return funcion_trapezoid(f_derivada, 0, x, intervalos_composite) + constante_de_integracion \n",
    "\n",
    "# Definimos una funcion que nos devuelva la integral por simpson de 0 a x\n",
    "def f_por_simpson(x):\n",
    "    return funcion_simpson(f_derivada, 0, x, intervalos_composite) + constante_de_integracion \n",
    "\n",
    "\n",
    "resultado_newton_con_trapezoid = funcion_newton(f_por_trapezoid, f_derivada, x0, error)\n",
    "resultado_newton_con_simpson = funcion_newton(f_por_simpson, f_derivada, x0, error)\n",
    "\n",
    "print(resultado_newton_con_trapezoid)\n",
    "print(resultado_newton_con_simpson)\n"
   ]
  },
  {
   "cell_type": "markdown",
   "metadata": {},
   "source": [
    "## Ejercicio 2"
   ]
  },
  {
   "cell_type": "code",
   "execution_count": 102,
   "metadata": {},
   "outputs": [],
   "source": [
    "# Definimos la derivada la integral, que es la funcion de la ODE\n",
    "def f_prima(y, t):\n",
    "    return np.sqrt(1 + t**3)\n",
    "\n",
    "# # Definimos la segunda derivada la integral, que es la derivada de que se va a usar como derivada en el algoritmo de newton\n",
    "# def f_prima_prima(y, t):\n",
    "#     return 1/2 * 3*t**2 * (1 + t**3)**(-1/2) \n",
    "\n",
    "f0 = 0\n",
    "x0 = 0\n",
    "x = 5\n",
    "\n",
    "h = 1/64\n",
    "\n",
    "resultados_por_explicito = {} # Esto es un diccionario que va a almacenar con una clave h (1/64, 1/32, 1/16 ...) y con valor una lista con los resultados del algoritmo con esa h \n",
    "resultados_por_implicito = {} # Lo mismo por aqui pero con los resultados del implicito\n",
    "\n",
    "while h <= 1:\n",
    "    resultados_por_explicito[h] = funcion_euler_explicito(f_prima, f0, x0, x, h)\n",
    "    resultados_por_implicito[h] = funcion_euler_implicito(f_prima, f0, x0, x, h)\n",
    "    h *= 2"
   ]
  },
  {
   "cell_type": "code",
   "execution_count": 103,
   "metadata": {},
   "outputs": [
    {
     "data": {
      "image/png": "[encoded data removed]",
      "text/plain": [
       "<Figure size 432x288 with 1 Axes>"
      ]
     },
     "metadata": {
      "needs_background": "light"
     },
     "output_type": "display_data"
    }
   ],
   "source": [
    "# Ploteamos las soluciones de explicito\n",
    "\n",
    "for hi, resultado in resultados_por_explicito.items():\n",
    "    plt.plot( np.arange(x0, x0+x, hi), resultado, label=f'With h={hi}')\n",
    "\n",
    "plt.legend()\n",
    "plt.show()"
   ]
  },
  {
   "cell_type": "code",
   "execution_count": 104,
   "metadata": {},
   "outputs": [
    {
     "data": {
      "image/png": "[encoded data removed]",
      "text/plain": [
       "<Figure size 432x288 with 1 Axes>"
      ]
     },
     "metadata": {
      "needs_background": "light"
     },
     "output_type": "display_data"
    }
   ],
   "source": [
    "# Ploteamos las soluciones de implicito\n",
    "\n",
    "for hi, resultado in resultados_por_implicito.items():\n",
    "    plt.plot( np.arange(x0, x0+x, hi), resultado, label=f'With h={hi}')\n",
    "\n",
    "plt.legend()\n",
    "plt.show()"
   ]
  },
  {
   "cell_type": "code",
   "execution_count": 107,
   "metadata": {},
   "outputs": [
    {
     "name": "stdout",
     "output_type": "stream",
     "text": [
      "23.34182235405499\n",
      "23.5007725802282\n"
     ]
    }
   ],
   "source": [
    "print(resultados_por_explicito[1/64][-1])\n",
    "print(resultados_por_implicito[1/64][-1])"
   ]
  }
 ],
 "metadata": {
  "interpreter": {
   "hash": "7a542ca580817fc4dd55327026e074e2fa0cd470fc5dee9350c2d8b13822db8d"
  },
  "kernelspec": {
   "display_name": "Python 3.8.0 32-bit",
   "language": "python",
   "name": "python3"
  },
  "language_info": {
   "codemirror_mode": {
    "name": "ipython",
    "version": 3
   },
   "file_extension": ".py",
   "mimetype": "text/x-python",
   "name": "python",
   "nbconvert_exporter": "python",
   "pygments_lexer": "ipython3",
   "version": "3.7.0"
  },
  "orig_nbformat": 4
 },
 "nbformat": 4,
 "nbformat_minor": 2
}
