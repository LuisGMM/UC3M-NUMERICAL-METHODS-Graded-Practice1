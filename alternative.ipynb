{
 "cells": [
  {
   "cell_type": "code",
   "execution_count": 2,
   "metadata": {},
   "outputs": [],
   "source": [
    "import numpy as np"
   ]
  },
  {
   "cell_type": "code",
   "execution_count": 3,
   "metadata": {},
   "outputs": [],
   "source": [
    "#Aqui va las cosas de integrar\n",
    "\n",
    "def funcion_trapezoid(f, a, b, m):\n",
    "\n",
    "    valores_x = np.linspace(a, b, m+1)\n",
    "    valores_f = f(valores_x)\n",
    "    \n",
    "    cociente = (b-a) / (m)\n",
    "\n",
    "    sumatorio = 0 \n",
    "\n",
    "    for indice in range(len(valores_f)-1):\n",
    "        sumatorio += valores_f[indice] + valores_f[indice+1]\n",
    "\n",
    "    return cociente / 2 * sumatorio\n",
    "\n",
    "def funcion_simpson(f, a, b, m):\n",
    "    valores_x = np.linspace(a, b, m+1)\n",
    "    valores_f = f(valores_x)\n",
    "    \n",
    "    cociente = (b-a) / (m)\n",
    "\n",
    "    sumatorio_pares = 0 \n",
    "    sumatorio_impares = 0 \n",
    "\n",
    "    for indice in range(1, len(valores_f)-1):\n",
    "\n",
    "        if indice % 2 == 0:\n",
    "            sumatorio_pares += valores_f[indice] \n",
    "\n",
    "    for indice in range(0, len(valores_f)-1):\n",
    "\n",
    "        if indice % 2 != 0:\n",
    "            sumatorio_impares += valores_f[indice] \n",
    "\n",
    "    return cociente / 3 * (valores_f[0] + 2*sumatorio_pares + 4*sumatorio_impares + valores_f[len(valores_f)-1])\n",
    "\n"
   ]
  },
  {
   "cell_type": "code",
   "execution_count": 4,
   "metadata": {},
   "outputs": [
    {
     "name": "stdout",
     "output_type": "stream",
     "text": [
      "1.4887366795273342\n",
      "1.493674109820692\n"
     ]
    }
   ],
   "source": [
    "# Aquí compruebas con los ejemplos de la teoria que estan bien programados\n",
    "a = -1\n",
    "b = 1\n",
    "m = 10\n",
    "f = lambda x: np.exp(-x**2)\n",
    "\n",
    "print(funcion_trapezoid(f, a, b, m))\n",
    "print(funcion_simpson(f, a, b, m))"
   ]
  },
  {
   "cell_type": "code",
   "execution_count": 5,
   "metadata": {},
   "outputs": [],
   "source": [
    "# Aquí va newton\n",
    "\n",
    "def funcion_newton(f, f_prima, x0, error):\n",
    "    \n",
    "    indice = 0\n",
    "    sol = [x0]\n",
    "    \n",
    "    while True:\n",
    "        sol.append( sol[indice] - f(sol[indice]) / f_prima(sol[indice]) )\n",
    "        \n",
    "        if abs( sol[indice + 1] - sol[indice] ) < error:\n",
    "            return sol[indice]\n",
    "        \n",
    "        indice += 1\n",
    "\n"
   ]
  },
  {
   "cell_type": "code",
   "execution_count": 6,
   "metadata": {},
   "outputs": [
    {
     "data": {
      "text/plain": [
       "1.0000305180437934"
      ]
     },
     "execution_count": 6,
     "metadata": {},
     "output_type": "execute_result"
    }
   ],
   "source": [
    "# Aquí compruebas con los ejemplos de la teoria que estan bien programados\n",
    "\n",
    "f = lambda x: x**2 - 1\n",
    "f_derivada = lambda x: 2*x\n",
    "\n",
    "funcion_newton(f, f_derivada, 3, 0.0001)"
   ]
  },
  {
   "cell_type": "code",
   "execution_count": null,
   "metadata": {},
   "outputs": [],
   "source": []
  }
 ],
 "metadata": {
  "interpreter": {
   "hash": "7a542ca580817fc4dd55327026e074e2fa0cd470fc5dee9350c2d8b13822db8d"
  },
  "kernelspec": {
   "display_name": "Python 3.8.0 32-bit",
   "language": "python",
   "name": "python3"
  },
  "language_info": {
   "codemirror_mode": {
    "name": "ipython",
    "version": 3
   },
   "file_extension": ".py",
   "mimetype": "text/x-python",
   "name": "python",
   "nbconvert_exporter": "python",
   "pygments_lexer": "ipython3",
   "version": "3.7.0"
  },
  "orig_nbformat": 4
 },
 "nbformat": 4,
 "nbformat_minor": 2
}
