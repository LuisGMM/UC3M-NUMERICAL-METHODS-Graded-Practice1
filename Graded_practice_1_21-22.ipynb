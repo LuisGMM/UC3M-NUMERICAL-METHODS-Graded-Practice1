{
 "cells": [
  {
   "cell_type": "markdown",
   "metadata": {},
   "source": [
    "Before you turn this problem in, make sure everything runs as e\\chipected. First, **restart the kernel** (in the menubar, select Kernel$\\rightarrow$Restart) and then **run all cells** (in the menubar, select Cell$\\rightarrow$Run All).\n",
    "\n",
    "Make sure you fill in any place that says `YOUR CODE HERE` or \"YOUR ANSWER HERE\", as well as your name and collaborators below:"
   ]
  },
  {
   "cell_type": "code",
   "execution_count": 1,
   "metadata": {},
   "outputs": [],
   "source": [
    "NAME = \"Luis Grau Martín-Maldonado\"\n",
    "COLLABORATORS = \"\""
   ]
  },
  {
   "cell_type": "markdown",
   "metadata": {},
   "source": [
    "---"
   ]
  },
  {
   "cell_type": "markdown",
   "metadata": {},
   "source": [
    "# **Graded practice 1**"
   ]
  },
  {
   "cell_type": "markdown",
   "metadata": {},
   "source": [
    "## Practice guide\n",
    "\n",
    "In this first graded practice you have to solve the exercises below. In order to do that you will need to code the Newton's method, the composite trapezoidal rule, the composite Simpson's Rule, explicit and implicit Euler's methods.\n",
    "\n",
    "You should already have some of these codes from the regular practices, but make sure that your code is only yours.\n",
    "\n",
    "You will have to handle a notebook with:\n",
    "\n",
    "* The working programs that solve the exercises. I will run all the codes.\n",
    "* An explanation of the methods you are using.\n",
    "* An explanation of your procedure to calculate the solutions.\n",
    "* An explanation of the results.\n",
    "\n",
    "I have to grade many practices, so please, keep some order and make things as clear as possible.\n",
    "\n"
   ]
  },
  {
   "cell_type": "markdown",
   "metadata": {},
   "source": [
    "**Exercise 1:** The equation:\n",
    "\n",
    "$$\\int_{0}^{x}\\frac{1}{\\sqrt{2\\pi}}e^{-t^2/2}dt=0.45$$\n",
    "\n",
    "can be solved for $x$ by using Newton's method with\n",
    "\n",
    "$$f(x)=\\int_{0}^{x}\\frac{1}{\\sqrt{2\\pi}}e^{-t^2/2}dt-0.45$$\n",
    "\n",
    "and\n",
    "\n",
    "$$f'(x)=\\frac{1}{\\sqrt{2\\pi}}e^{-x^2/2}.$$\n",
    "\n",
    "To evaluate $f(x)$ at the approximation to the root $p_k$ we need a quadrature formula to approximate\n",
    "\n",
    "$$\\int_{0}^{p_k}\\frac{1}{\\sqrt{2\\pi}}e^{-t^2/2}dt$$\n",
    "\n",
    "1. Find a solution to $f(x) = 0$ accurate to within $10^{-5}$ using Newton’s method with $p_0 = 0.5$ and the Composite Simpson’s rule.\n",
    "\n",
    "2. Repeat (1.) using the Composite Trapezoidal rule in place of the Composite Simpson’s rule."
   ]
  },
  {
   "cell_type": "markdown",
   "metadata": {},
   "source": [
    "**Exercise 2** The integral $\\int_{0}^{x} \\sqrt{1+t^3}dt$ is one that cannot bе obtained bу the methods of elementary calculus  (It is an elliptic integral). \n",
    "\n",
    "1. Prepare а tablе \n",
    "\n",
    "\\begin{array}{|c|l|c|c|c|c|c|c|c|c|}\\hline\\\\ \n",
    "  \\textrm{x}    & &   0  &  h   &   2h   &  3h   &    4h   &  ... &  5-h   &  5      \\\\ \\hline\\\\ \n",
    "  \\textrm{f(x)} & & f(0) & f(h) & f(2h)  & f(3h) &  f(4h)  &  ... & f(5-h) & f(5)     \\\\ \\hline\n",
    "\\end{array}\n",
    "\n",
    "of the function\n",
    "\n",
    "$f(x)=\\int_{0}^{x} \\sqrt{1+t^3}dt$ on the interval $0\\leq x\\leq 5$ bу solving а suitable initial value problem **not a numerical integration method**. \n",
    "\n",
    "Use the implicit and explicit Euler methods. \n",
    "\n",
    "Start with h = 1/64 and repeat the calculation doubling the stepsize till $h=1$. \n",
    "\n",
    "2. Plot the results and explain what you see."
   ]
  },
  {
   "cell_type": "code",
   "execution_count": 2,
   "metadata": {},
   "outputs": [],
   "source": [
    "import inspect\n",
    "import sys\n",
    "import warnings\n",
    "\n",
    "import numpy as np\n",
    "import matplotlib.pyplot as plt"
   ]
  },
  {
   "cell_type": "markdown",
   "metadata": {},
   "source": [
    "### Newton method"
   ]
  },
  {
   "cell_type": "code",
   "execution_count": 3,
   "metadata": {},
   "outputs": [],
   "source": [
    "class InadequateArgsCombination(Exception):\n",
    "    pass\n",
    "\n",
    "\n",
    "def newton(err: float = 1e-4, f: 'Callable[float]' = None, f_dev: 'Callable[float]' = None,\n",
    "           integrator: 'Callable[Callable, float, float, float]' = None, differentiator: 'Callable[int, Callable, float, float, bool]' = None, *,\n",
    "           c: float = 0, x0: float = 0, n: int = 100_000, h_err: float = 1e-4) -> float:\n",
    "    r\"\"\"Newton's method to find roots of a function.\n",
    "\n",
    "    If no `f` is given but `f_dev` and `integrator` are, it will compute the roots of the integral of `f_dev` with integration constant c.\n",
    "    If `f_dev` is not given, it will be computed from `f` with the mathematical definition of a derivative.\n",
    "\n",
    "    Args:\n",
    "        err (float): Desired error of the method.\n",
    "        f (Callable[float], optional): Analytical function to find its roots. Its input is the point to be evaluated in. Defaults to None.\n",
    "        f_dev (Callable[float], optional): Analytical derivative of the function. Its input is the point to be evaluated in. Defaults to None.\n",
    "        integrator (Callable[Callable, float, float, float], optional): Integration method to compute the integral of `f_dev` and find its roots.\n",
    "            It should be `composite_trapezoid` or `composite_simpson` methods. Defaults to None.\n",
    "        differentiator (Callable[int, Callable, float, float, bool]): Differentiation method to compute the derivative of `f` during the method.\n",
    "            It should be `forward`, `backward` or `central` methods from differentiate module. Defaults to None.\n",
    "        c (float, optional): Integration constant of the integral of f_dev. Defaults to 0.\n",
    "        x0 (float, optional): Initial guess of the root.\n",
    "            Note that an inadequate first guess could lead to undesired outputs such as no roots or undesired roots.\n",
    "            Defaults to 0.\n",
    "        n (int, optional): The number of parts the interval of the integrator method is divided into. Defaults to 100_000.\n",
    "        h_err (float, optional): Finite approximation of 0 to use in the calculation of `f_dev` by its mathematical definition. Defaults to 1e-4.\n",
    "\n",
    "    Raises:\n",
    "        InadequateArgsCombination: If the combination of arguments is not valid.\n",
    "\n",
    "    Returns:\n",
    "        float|None: Root of the function or None if the algorithm reaches its recursion limit.\n",
    "    \"\"\"\n",
    "    if (f or integrator) and f_dev:\n",
    "        if f and integrator:\n",
    "            warnings.warn('`f`, `f_dev` and `integrator` args detected. Only `f` and `f_dev` will be used for sake of precision.')\n",
    "            def iteration(iter_idx, iter_dict): return iter_dict[iter_idx] - f(iter_dict[iter_idx]) / f_dev(iter_dict[iter_idx])\n",
    "\n",
    "        elif integrator:\n",
    "            def iteration(iter_idx, iter_dict): return iter_dict[iter_idx] - (integrator(f_dev, 0, iter_dict[iter_idx], n) + c) / f_dev(iter_dict[iter_idx])\n",
    "\n",
    "        else:\n",
    "            def iteration(iter_idx, iter_dict): return iter_dict[iter_idx] - f(iter_dict[iter_idx]) / f_dev(iter_dict[iter_idx])\n",
    "\n",
    "    elif (f_dev or differentiator) and f:\n",
    "\n",
    "        if f_dev and differentiator:\n",
    "            warnings.warn('`f`, `f_dev` and `differentiator` args detected. Only `f` and `f_dev` will be used for sake of precision.')\n",
    "            def iteration(iter_idx, iter_dict): return iter_dict[iter_idx] - f(iter_dict[iter_idx]) / f_dev(iter_dict[iter_idx])\n",
    "\n",
    "        elif differentiator:\n",
    "            def iteration(iter_idx, iter_dict): return iter_dict[iter_idx] - f(iter_dict[iter_idx]) / \\\n",
    "                differentiator(1, f, iter_dict[iter_idx], h_err, True)\n",
    "\n",
    "        else:\n",
    "            def iteration(iter_idx, iter_dict): return iter_dict[iter_idx] - f(iter_dict[iter_idx]) / f_dev(iter_dict[iter_idx])\n",
    "\n",
    "    else:\n",
    "        raise InadequateArgsCombination('Cannot compute Newton\\'s method with the combination of arguments given. Check the valid combinations.')\n",
    "\n",
    "    iter, iter_dict = 0, {0: x0}\n",
    "    limit = sys.getrecursionlimit()\n",
    "\n",
    "    while True:\n",
    "        if iter + 10 >= limit:\n",
    "            warnings.warn(\n",
    "                f'Iteration limit ({limit}) reached without finding any root. Try with other initial guess or changing the recursion limit. \\\n",
    "                    Maybe there are no roots.')\n",
    "            return\n",
    "\n",
    "        iter_dict[iter+1] = iteration(iter, iter_dict)\n",
    "\n",
    "        if abs(iter_dict[iter+1] - iter_dict[iter]) < err:\n",
    "            return iter_dict[iter+1]\n",
    "\n",
    "        iter += 1"
   ]
  },
  {
   "cell_type": "markdown",
   "metadata": {},
   "source": [
    "## Exercise 1"
   ]
  },
  {
   "cell_type": "markdown",
   "metadata": {},
   "source": [
    "### Methods"
   ]
  },
  {
   "cell_type": "code",
   "execution_count": 4,
   "metadata": {},
   "outputs": [],
   "source": [
    "def composite_trapezoid(f_: 'Callable[float]', a: float, b: float, n: float) -> float:\n",
    "    \"\"\"Computes the analitical solution of the integral of f from a to b\n",
    "    following the composite trapezoidal rule.\n",
    "\n",
    "    Args:\n",
    "        f_ (Callable[float]): Function to be integrated.\n",
    "        a (float): Lower bound of hte interval.\n",
    "        b (float): Upper bound of the interval.\n",
    "        n (float): The number of parts the interval is divided into.\n",
    "\n",
    "    Returns:\n",
    "        float: Numerical solution of the integral.\n",
    "    \"\"\"\n",
    "    x = np.linspace(a, b, n + 1)\n",
    "    f = f_(x)\n",
    "    h = (b - a) / (n)\n",
    "\n",
    "    return h/2 * sum(f[:n] + f[1:n+1])\n",
    "\n",
    "\n",
    "def composite_simpson(f_: 'Callable[float]', a: float, b: float, n: float) -> float:\n",
    "    \"\"\"Computes the analitical solution of the integral of f from a to b\n",
    "    following the composite Simpson's 1/3 rule.\n",
    "\n",
    "    Args:\n",
    "        f_ (Callable[float]): Function to be integrated.\n",
    "        a (float): Lower bound of hte interval.\n",
    "        b (float): Upper bound of the interval.\n",
    "        n (float): The number of parts the interval is divided into.\n",
    "\n",
    "    Returns:\n",
    "        float: Numerical solution of the integral.\n",
    "    \"\"\"\n",
    "    x = np.linspace(a, b, n+1)\n",
    "    f = f_(x)\n",
    "    h = (b - a) / (n)\n",
    "\n",
    "    return (h/3) * (f[0] + 2*sum(f[2:n-1:2]) + 4*sum(f[1:n:2]) + f[n])\n"
   ]
  },
  {
   "cell_type": "markdown",
   "metadata": {},
   "source": [
    "### Constants"
   ]
  },
  {
   "cell_type": "code",
   "execution_count": 5,
   "metadata": {},
   "outputs": [],
   "source": [
    "ERR = 1e-5\n",
    "X0 = 0.5\n",
    "C = -0.45"
   ]
  },
  {
   "cell_type": "markdown",
   "metadata": {},
   "source": [
    "### Utilmethods (Function methods, wrappers ...)"
   ]
  },
  {
   "cell_type": "code",
   "execution_count": 6,
   "metadata": {},
   "outputs": [],
   "source": [
    "def f_dev(x: float) -> float:\n",
    "    return 1 / np.sqrt(2*np.pi) * np.exp(-x**2 / 2)\n",
    "\n",
    "def newton_simpson(err: float = ERR, n: int = 100_000) -> float:\n",
    "     return newton(integrator=composite_simpson, f_dev=f_dev, c=C, err=err, x0=X0, n=n)\n",
    "\n",
    "def newton_trapezoid(err: float = ERR, n: int = 100_000) -> float:\n",
    "    return newton(integrator=composite_trapezoid, f_dev=f_dev, c=C, err=err, x0=X0, n=n)"
   ]
  },
  {
   "cell_type": "code",
   "execution_count": 7,
   "metadata": {},
   "outputs": [
    {
     "name": "stdout",
     "output_type": "stream",
     "text": [
      "1.644853626951474 1.6448536269886\n"
     ]
    }
   ],
   "source": [
    "print(newton_simpson(), newton_trapezoid())"
   ]
  },
  {
   "cell_type": "markdown",
   "metadata": {},
   "source": [
    "But these numbers were obtained using an arbitrary number of subintervals for the integration techniques, concretely 100000. \n",
    "\n",
    "**Can we say this number of intervals give accurate solutions of the integrals?** - A priori, nwe cannot.\n",
    "\n",
    "Well, let's see the minimum number of intervals, `m`, that the integration methods need to give solutions under the asked error, $10^{-5}$."
   ]
  },
  {
   "cell_type": "markdown",
   "metadata": {},
   "source": [
    "### Determining the minimum `m` for composite trapezoidal technique."
   ]
  },
  {
   "cell_type": "markdown",
   "metadata": {},
   "source": [
    "\n",
    "Given the composite trapezoidal rule scheme:\n",
    "$$\n",
    "I_{1, m} = \\frac{b-a}{2m} \\sum_{k=0}^{m-1} \\left[ f(x_k) + f(x_{k+1})  \\right]\n",
    "$$\n",
    "\n",
    "Then, provided f is in $[a, b]$ as our ideal girl, at least $C^2$, its error is:\n",
    "$$\n",
    "E_{1, m}(f) = - \\frac{b-a}{12} H^2 f''(\\chi)\n",
    "$$\n",
    "\n",
    "with $H = \\frac{b-a}{m}$:  \n",
    "$$\n",
    "E_{1, m}(f) = - \\frac{(b-a)^3}{12 m^2}f''(\\chi)\n",
    "$$\n",
    "so we can deduce **m**:\n",
    "$$\n",
    "m(E) = \\sqrt{ - \\frac{(b-a)^3}{12 E} f''(\\chi) }\n",
    "$$\n",
    "\n",
    "then, abusing a little bit of the notation:\n",
    "\n",
    "$$\n",
    "f = f'(x)=\\frac{1}{\\sqrt{2\\pi}}e^{-x^2/2}\n",
    "$$\n",
    "$$\n",
    "f' = -x \\frac{e^{-x^2/2}}{\\sqrt{2 \\pi}}\n",
    "$$\n",
    "$$\n",
    "f'' = (x^2 - 1) \\frac{e^{-x^2/2}}{\\sqrt{2 \\pi}}\n",
    "$$\n",
    "\n",
    "Now, to find $\\chi$ we need the next derivative and equal it to 0:\n",
    "$$\n",
    "f''' = (x^3 - 3x) \\frac{e^{-x^2/2}}{\\sqrt{2 \\pi}} \n",
    "$$\n",
    "$$\n",
    "f''' = (\\chi^3 - 3\\chi) \\frac{e^{-\\chi^2/2}}{\\sqrt{2 \\pi}} = 0 \\Longrightarrow \\chi = \n",
    "$$\n",
    "Therefore $f''(\\chi)$ is\n",
    "$$\n",
    "f''(\\chi) = \n",
    "$$\n",
    "\n",
    "Now we only have to figure out the remaining values. We want $E\\le 10^{-5}$ so $E= 10^{-5}$. \n",
    "\n",
    "The lower bound a is 0 but, what about b? As b is the guess of the root in Newton's method, it is variable. What we can do to not occupy our heads too much with it, we can set a more strict condition by setting b to the upper bound of an interval we think the solution is in. This way we can assure the error of smaller intervals are contained in this bigger interval.\n",
    "\n",
    "By trying with multiple m intervals (and absolutely not by looking at Wolfram Alpha) we know the root is more or less 1.64482. Therefore, we can set the upper bound to 2. \n",
    "\n",
    "Then, for $a=0, \\ \\ b = 2, \\ \\text{and} \\ E = 10^{-5}$ we find $m =  \\approx .$\n",
    "\n"
   ]
  },
  {
   "cell_type": "markdown",
   "metadata": {},
   "source": [
    "### Determining the minimum `m` for composite Simpson's 1/3 technique."
   ]
  },
  {
   "cell_type": "markdown",
   "metadata": {},
   "source": [
    "\n",
    "\n",
    "Given the composite Simpson's 1/3 rule scheme:\n",
    "$$\n",
    "I_{1, m} = \\frac{H}{6} \\left[ f(x_0) + 2\\sum_{r=1}^{m-1} {f(x_{2r})} + 4\\sum_{s=1}^{m-1} {f(x_{2s+1})} + f(x_{2m}) \\right]\n",
    "$$\n",
    "\n",
    "Then, provided f is in $[a, b]$ at least $C^4$, its error is:\n",
    "$$\n",
    "E_{2, m}(f) = - \\frac{b-a}{180} H^4 f''''(\\chi)\n",
    "$$\n",
    "\n",
    "with $H = \\frac{b-a}{m}$:  \n",
    "$$\n",
    "E_{2, m}(f) = - \\frac{(b-a)^5}{180 m^4}f''(\\chi)\n",
    "$$\n",
    "so we can deduce **m**:\n",
    "$$\n",
    "m(E) = \\sqrt[4]{ - \\frac{(b-a)^5}{180 E} f''''(\\chi) }\n",
    "$$\n",
    "\n",
    "then, abusing a little bit of the notation (again):\n",
    "\n",
    "$$\n",
    "f = f'(x)=\\frac{1}{\\sqrt{2\\pi}}e^{-x^2/2}\n",
    "$$\n",
    "$$\n",
    "f' = -x \\frac{e^{-x^2/2}}{\\sqrt{2 \\pi}}\n",
    "$$\n",
    "$$\n",
    "f'' = (x^2 - 1) \\frac{e^{-x^2/2}}{\\sqrt{2 \\pi}}\n",
    "$$\n",
    "$$\n",
    "f''' = (x^3 - 3x) \\frac{e^{-x^2/2}}{\\sqrt{2 \\pi}}\n",
    "$$\n",
    "$$\n",
    "f'''' = (x^4 - 6x^2 + 3) \\frac{e^{-x^2/2}}{\\sqrt{2 \\pi}}\n",
    "$$\n",
    "\n",
    "Now, to find $\\chi$ we need the next derivative and equal it to 0:\n",
    "$$\n",
    "f^{(5)} = (x^3 - 3x) \\frac{e^{-x^2/2}}{\\sqrt{2 \\pi}} \n",
    "$$\n",
    "$$\n",
    "f^{(5)} = (\\chi^3 - 3\\chi) \\frac{e^{-\\chi^2/2}}{\\sqrt{2 \\pi}} = 0 \\Longrightarrow \\chi = \n",
    "$$\n",
    "Therefore $f''''(\\chi)$ is\n",
    "$$\n",
    "f''''(\\chi) = \n",
    "$$\n",
    "\n",
    "Following the same procedure as with the trapezoidal technique, for $a=0, \\ \\ b = 2, \\ \\text{and} \\ E = 10^{-5}$ we find $m =  \\approx .$"
   ]
  },
  {
   "cell_type": "markdown",
   "metadata": {},
   "source": [
    "## Exercise 2"
   ]
  },
  {
   "cell_type": "markdown",
   "metadata": {},
   "source": [
    "### Methods"
   ]
  },
  {
   "cell_type": "code",
   "execution_count": 8,
   "metadata": {},
   "outputs": [],
   "source": [
    "def euler_explicit(f: 'Callable[float, float]', y0: float, t0: float, t: float, h: float) -> np.ndarray:\n",
    "    r\"\"\"Computes the explicit (forward) Euler method to solve ODEs.\n",
    "    \n",
    "    Args:\n",
    "        f (Callable[float, float]): Function depending on y and t in that order.\n",
    "            Equivalent to f(y,t).\n",
    "        y0 (float): Initial value of the answer.\n",
    "            Equivalent to y(t0).\n",
    "        t0 (float): Initial time.\n",
    "        t (float): Final time.\n",
    "        h (float): Separation between the points of the interval.\n",
    "\n",
    "    Returns:\n",
    "        np.ndarray: Numerical solution of the ODE in the interval [t0, t0+h, ..., t-h, t].\n",
    "\n",
    "    Examples:\n",
    "\n",
    "        Lets solve the problem\n",
    "\n",
    "        :math: `$$\\begin{array}{l}\n",
    "                y'=\\lambda y \\\\\n",
    "                y(0) = 1\n",
    "                \\end{array}$$`\n",
    "\n",
    "        for :math:`$\\lambda = -1$` over the interval :math: `$[0,1]$` for a stepsize `$h=0.1$`.\n",
    "\n",
    "        Then:\n",
    "        >>> f = lambda y, t: -y\n",
    "        >>> y0 = 1\n",
    "        >>> h = 0.1\n",
    "        >>> t0, t = 0, 1\n",
    "        >>> y = euler_explicit(f, y0, t0, t, h)\n",
    "        >>> print(y)\n",
    "    \"\"\"\n",
    "    t_ = np.arange(t0, t+h, h)\n",
    "    N = len(t_)\n",
    "\n",
    "    u = np.zeros_like(t_)\n",
    "    u[0] = y0\n",
    "\n",
    "    for i in range(N-1):\n",
    "        u[i+1] = u[i] + h * f(u[i], t_[i])\n",
    "\n",
    "    return u\n",
    "\n",
    "\n",
    "def euler_implicit(f: 'Callable[float, float]', y0: float, t0: float, t: float, h: float, *args, **kwargs) -> np.ndarray:\n",
    "    \"\"\"Computes the implicit (backward) Euler method to solve ODEs.\n",
    "\n",
    "    If `f` argument has an explicit dependence on `y`, Newton\\' method is used to compute the next iteration the algorithm.\n",
    "    Then, `err` must be passed as extra argument, and it is recommended to pass the analytical derivative of `f` as f_dev.\n",
    "    In case this last `f_dev` is not passed, Newton\\' method will use finite differences to numerically obtain it.\n",
    "    \n",
    "    See more about Newton\\' method in module roots.\n",
    "\n",
    "    Args:\n",
    "        f (Callable[float, float]): Function depending on y and t in that order.\n",
    "            Equivalent to f(y,t).\n",
    "        y0 (float): Initial value of the answer.\n",
    "            Equivalent to y(t0).\n",
    "        t0 (float): Initial time.\n",
    "        t (float): Final time.\n",
    "        h (float): Separation between the points of the interval.\n",
    "\n",
    "    Returns:\n",
    "        np.ndarray: Numerical solution of the ODE in the interval [t0, t0+h, ..., t-h, t].\n",
    "    \"\"\"\n",
    "    returns_of_f = inspect.getsource(f).split('return')\n",
    "    lambdas_of_f = inspect.getsource(f).split('lambda')\n",
    "\n",
    "    n_returns_of_f = len(returns_of_f)\n",
    "    n_lambdas_of_f = len(lambdas_of_f)\n",
    "\n",
    "    if n_returns_of_f > 2 or n_lambdas_of_f > 2:\n",
    "        raise ValueError('Function `f` is not valid. It can only have one return or one lambda.')\n",
    "\n",
    "    if n_returns_of_f < 2 and n_lambdas_of_f < 2:\n",
    "        raise ValueError('Function `f` is not valid. It must have one return or one lambda.')\n",
    "\n",
    "    elif n_returns_of_f == 2:\n",
    "        function_of_f = returns_of_f[-1]\n",
    "\n",
    "    elif n_lambdas_of_f == 2:\n",
    "        function_of_f = lambdas_of_f[-1].split(':')[-1]\n",
    "\n",
    "    t_ = np.arange(t0, t+h, h)\n",
    "    N = len(t_)\n",
    "\n",
    "    u = np.zeros_like(t_)\n",
    "    u[0] = y0\n",
    "\n",
    "    if 'y' in function_of_f: #This could lead to bugs if there is some method with y\n",
    "\n",
    "        for i in range(N-1):\n",
    "            def g(y): return u[i] - u[i+1] + h*f(y, t_[i+1])\n",
    "            u[i+1] = newton(*args, **kwargs, f=g, x0=u[i])\n",
    "    else:\n",
    "      \n",
    "        for i in range(N-1):\n",
    "            u[i+1] = u[i] + h*f(y=None, t=t_[i+1])\n",
    "\n",
    "    return u"
   ]
  },
  {
   "cell_type": "markdown",
   "metadata": {},
   "source": [
    "### Constants"
   ]
  },
  {
   "cell_type": "code",
   "execution_count": 9,
   "metadata": {},
   "outputs": [],
   "source": [
    "F0 = 0\n",
    "X0_, X = 0, 5\n",
    "\n",
    "h = [1/64, 1/32, 1/16, 1/8, 1/4, 1/2, 1]"
   ]
  },
  {
   "cell_type": "markdown",
   "metadata": {},
   "source": [
    "### Utilmethods (Function methods, wrappers ...)"
   ]
  },
  {
   "cell_type": "code",
   "execution_count": 10,
   "metadata": {},
   "outputs": [],
   "source": [
    "def f_deriv(y, t):\n",
    "    return np.sqrt(1 + t**3) \n",
    "\n",
    "def get_results(euler):...\n",
    "\n",
    "def plot_results(results: 'dict[int:list]'): \n",
    "    for hi, resultad in results.items():\n",
    "        plt.plot( np.arange(X0_, X+hi, hi), resultad, label=f'With h={hi}')\n",
    "    \n",
    "    plt.show()\n",
    "\n",
    "    \n",
    "results_explicit = {}  \n",
    "results_implicit = {} \n",
    "\n",
    "for hi in h:\n",
    "    results_explicit[hi] = euler_explicit(f=f_deriv, y0=F0, t0=X0_, t=X, h=hi)\n",
    "    results_implicit[hi] = euler_implicit(f=f_deriv, y0=F0, t0=X0_, t=X, h=hi)\n"
   ]
  },
  {
   "cell_type": "markdown",
   "metadata": {},
   "source": [
    "### Preparing tables"
   ]
  },
  {
   "cell_type": "code",
   "execution_count": 11,
   "metadata": {},
   "outputs": [
    {
     "ename": "NameError",
     "evalue": "name 'X2' is not defined",
     "output_type": "error",
     "traceback": [
      "\u001b[1;31m---------------------------------------------------------------------------\u001b[0m",
      "\u001b[1;31mNameError\u001b[0m                                 Traceback (most recent call last)",
      "\u001b[1;32m<ipython-input-11-cd0ef5cc1d9f>\u001b[0m in \u001b[0;36m<module>\u001b[1;34m\u001b[0m\n\u001b[0;32m      2\u001b[0m \u001b[1;33m\u001b[0m\u001b[0m\n\u001b[0;32m      3\u001b[0m \u001b[1;32mfor\u001b[0m \u001b[0mhi\u001b[0m\u001b[1;33m,\u001b[0m \u001b[0mresultado\u001b[0m \u001b[1;32min\u001b[0m \u001b[0mresults_explicit\u001b[0m\u001b[1;33m.\u001b[0m\u001b[0mitems\u001b[0m\u001b[1;33m(\u001b[0m\u001b[1;33m)\u001b[0m\u001b[1;33m:\u001b[0m\u001b[1;33m\u001b[0m\u001b[1;33m\u001b[0m\u001b[0m\n\u001b[1;32m----> 4\u001b[1;33m     \u001b[0mplt\u001b[0m\u001b[1;33m.\u001b[0m\u001b[0mplot\u001b[0m\u001b[1;33m(\u001b[0m \u001b[0mnp\u001b[0m\u001b[1;33m.\u001b[0m\u001b[0marange\u001b[0m\u001b[1;33m(\u001b[0m\u001b[0mX02\u001b[0m\u001b[1;33m,\u001b[0m \u001b[0mX2\u001b[0m\u001b[1;33m+\u001b[0m\u001b[0mhi\u001b[0m\u001b[1;33m,\u001b[0m \u001b[0mhi\u001b[0m\u001b[1;33m)\u001b[0m\u001b[1;33m,\u001b[0m \u001b[0mresultado\u001b[0m\u001b[1;33m,\u001b[0m \u001b[0mlabel\u001b[0m\u001b[1;33m=\u001b[0m\u001b[1;34mf'With h={hi}'\u001b[0m\u001b[1;33m)\u001b[0m\u001b[1;33m\u001b[0m\u001b[1;33m\u001b[0m\u001b[0m\n\u001b[0m\u001b[0;32m      5\u001b[0m \u001b[1;33m\u001b[0m\u001b[0m\n\u001b[0;32m      6\u001b[0m \u001b[0mplt\u001b[0m\u001b[1;33m.\u001b[0m\u001b[0mlegend\u001b[0m\u001b[1;33m(\u001b[0m\u001b[1;33m)\u001b[0m\u001b[1;33m\u001b[0m\u001b[1;33m\u001b[0m\u001b[0m\n",
      "\u001b[1;31mNameError\u001b[0m: name 'X2' is not defined"
     ]
    }
   ],
   "source": [
    "\n",
    "results_explicit = {}  \n",
    "results_implicit = {} \n",
    "\n",
    "for hi in h:\n",
    "    results_explicit[hi] = euler_explicit(f=f_deriv, y0=F0, t0=X0_, t=X, h=hi)\n",
    "    results_implicit[hi] = euler_implicit(f=f_deriv, y0=F0, t0=X0_, t=X, h=hi)\n",
    "\n",
    "# Ploteamos las soluciones de explicito\n",
    "\n",
    "for hi, resultado in results_explicit.items():\n",
    "    plt.plot( np.arange(X0_, X+hi, hi), resultado, label=f'With h={hi}')\n",
    "\n",
    "plt.legend()\n",
    "plt.show()"
   ]
  },
  {
   "cell_type": "code",
   "execution_count": null,
   "metadata": {},
   "outputs": [
    {
     "data": {
      "image/png": "[encoded data removed]",
      "text/plain": [
       "<Figure size 432x288 with 1 Axes>"
      ]
     },
     "metadata": {
      "needs_background": "light"
     },
     "output_type": "display_data"
    }
   ],
   "source": [
    "# Ploteamos las soluciones de implicito\n",
    "\n",
    "for hi, resultado in results_implicit.items():\n",
    "    plt.plot( np.arange(X0_, X+hi, hi), resultado, label=f'With h={hi}')\n",
    "\n",
    "plt.legend()\n",
    "plt.show()"
   ]
  },
  {
   "cell_type": "code",
   "execution_count": null,
   "metadata": {},
   "outputs": [],
   "source": []
  }
 ],
 "metadata": {
  "kernelspec": {
   "display_name": "Python 3",
   "language": "python",
   "name": "python3"
  },
  "language_info": {
   "codemirror_mode": {
    "name": "ipython",
    "version": 3
   },
   "file_extension": ".py",
   "mimetype": "text/x-python",
   "name": "python",
   "nbconvert_exporter": "python",
   "pygments_lexer": "ipython3",
   "version": "3.8.0"
  }
 },
 "nbformat": 4,
 "nbformat_minor": 4
}
