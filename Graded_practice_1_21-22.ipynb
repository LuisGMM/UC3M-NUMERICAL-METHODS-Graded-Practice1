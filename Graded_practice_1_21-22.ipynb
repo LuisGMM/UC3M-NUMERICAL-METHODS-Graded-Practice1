{
 "cells": [
  {
   "cell_type": "markdown",
   "metadata": {},
   "source": [
    "Before you turn this problem in, make sure everything runs as expected. First, **restart the kernel** (in the menubar, select Kernel$\\rightarrow$Restart) and then **run all cells** (in the menubar, select Cell$\\rightarrow$Run All).\n",
    "\n",
    "Make sure you fill in any place that says `YOUR CODE HERE` or \"YOUR ANSWER HERE\", as well as your name and collaborators below:"
   ]
  },
  {
   "cell_type": "code",
   "execution_count": null,
   "metadata": {},
   "outputs": [],
   "source": [
    "NAME = \"\"\n",
    "COLLABORATORS = \"\""
   ]
  },
  {
   "cell_type": "markdown",
   "metadata": {},
   "source": [
    "---"
   ]
  },
  {
   "cell_type": "markdown",
   "metadata": {},
   "source": [
    "# **Graded practice 1**"
   ]
  },
  {
   "cell_type": "markdown",
   "metadata": {},
   "source": [
    "## Practice guide\n",
    "\n",
    "In this first graded practice you have to solve the exercises below. In order to do that you will need to code the Newton's method, the composite trapezoidal rule, the composite Simpson's Rule, explicit and implicit Euler's methods.\n",
    "\n",
    "You should already have some of these codes from the regular practices, but make sure that your code is only yours.\n",
    "\n",
    "You will have to handle a notebook with:\n",
    "\n",
    "* The working programs that solve the exercises. I will run all the codes.\n",
    "* An explanation of the methods you are using.\n",
    "* An explanation of your procedure to calculate the solutions.\n",
    "* An explanation of the results.\n",
    "\n",
    "I have to grade many practices, so please, keep some order and make things as clear as possible.\n",
    "\n"
   ]
  },
  {
   "cell_type": "markdown",
   "metadata": {},
   "source": [
    "**Exercise 1:** The equation:\n",
    "\n",
    "$$\\int_{0}^{x}\\frac{1}{\\sqrt{2\\pi}}e^{-t^2/2}dt=0.45$$\n",
    "\n",
    "can be solved for $x$ by using Newton's method with\n",
    "\n",
    "$$f(x)=\\int_{0}^{x}\\frac{1}{\\sqrt{2\\pi}}e^{-t^2/2}dt-0.45$$\n",
    "\n",
    "and\n",
    "\n",
    "$$f'(x)=\\frac{1}{\\sqrt{2\\pi}}e^{-x^2/2}.$$\n",
    "\n",
    "To evaluate $f(x)$ at the approximation to the root $p_k$ we need a quadrature formula to approximate\n",
    "\n",
    "$$\\int_{0}^{p_k}\\frac{1}{\\sqrt{2\\pi}}e^{-t^2/2}dt$$\n",
    "\n",
    "1. Find a solution to $f(x) = 0$ accurate to within $10^{-5}$ using Newton’s method with $p_0 = 0.5$ and the Composite Simpson’s rule.\n",
    "\n",
    "2. Repeat (1.) using the Composite Trapezoidal rule in place of the Composite Simpson’s rule."
   ]
  },
  {
   "cell_type": "markdown",
   "metadata": {},
   "source": [
    "**Exercise 2** The integral $\\int_{0}^{x} \\sqrt{1+t^3}dt$ is one that cannot bе obtained bу the methods of elementary calculus  (It is an elliptic integral). \n",
    "\n",
    "1. Prepare а tablе \n",
    "\n",
    "\\begin{array}{|c|l|c|c|c|c|c|c|c|c|}\\hline\\\\ \n",
    "  \\textrm{x}    & &   0  &  h   &   2h   &  3h   &    4h   &  ... &  5-h   &  5      \\\\ \\hline\\\\ \n",
    "  \\textrm{f(x)} & & f(0) & f(h) & f(2h)  & f(3h) &  f(4h)  &  ... & f(5-h) & f(5)     \\\\ \\hline\n",
    "\\end{array}\n",
    "\n",
    "of the function\n",
    "\n",
    "$f(x)=\\int_{0}^{x} \\sqrt{1+t^3}dt$ on the interval $0\\leq x\\leq 5$ bу solving а suitable initial value problem **not a numerical integration method**. \n",
    "\n",
    "Use the implicit and explicit Euler methods. \n",
    "\n",
    "Start with h = 1/64 and repeat the calculation doubling the stepsize till $h=1$. \n",
    "\n",
    "2. Plot the results and explain what you see."
   ]
  }
 ],
 "metadata": {
  "kernelspec": {
   "display_name": "Python 3",
   "language": "python",
   "name": "python3"
  },
  "language_info": {
   "codemirror_mode": {
    "name": "ipython",
    "version": 3
   },
   "file_extension": ".py",
   "mimetype": "text/x-python",
   "name": "python",
   "nbconvert_exporter": "python",
   "pygments_lexer": "ipython3",
   "version": "3.8.10"
  }
 },
 "nbformat": 4,
 "nbformat_minor": 4
}
