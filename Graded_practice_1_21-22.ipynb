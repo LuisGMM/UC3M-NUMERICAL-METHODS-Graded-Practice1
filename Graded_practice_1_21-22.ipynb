{
 "cells": [
  {
   "cell_type": "markdown",
   "metadata": {},
   "source": [
    "Before you turn this problem in, make sure everything runs as e\\chipected. First, **restart the kernel** (in the menubar, select Kernel$\\rightarrow$Restart) and then **run all cells** (in the menubar, select Cell$\\rightarrow$Run All).\n",
    "\n",
    "Make sure you fill in any place that says `YOUR CODE HERE` or \"YOUR ANSWER HERE\", as well as your name and collaborators below:"
   ]
  },
  {
   "cell_type": "code",
   "execution_count": null,
   "metadata": {},
   "outputs": [],
   "source": [
    "NAME = \"Luis Grau Martín-Maldonado\"\n",
    "COLLABORATORS = \"Pedro González Rodríguez\""
   ]
  },
  {
   "cell_type": "markdown",
   "metadata": {},
   "source": [
    "---"
   ]
  },
  {
   "cell_type": "markdown",
   "metadata": {},
   "source": [
    "# **Graded practice 1**"
   ]
  },
  {
   "cell_type": "markdown",
   "metadata": {},
   "source": [
    "## Practice guide\n",
    "\n",
    "In this first graded practice you have to solve the exercises below. In order to do that you will need to code the Newton's method, the composite trapezoidal rule, the composite Simpson's Rule, explicit and implicit Euler's methods.\n",
    "\n",
    "You should already have some of these codes from the regular practices, but make sure that your code is only yours.\n",
    "\n",
    "You will have to handle a notebook with:\n",
    "\n",
    "* The working programs that solve the exercises. I will run all the codes.\n",
    "* An explanation of the methods you are using.\n",
    "* An explanation of your procedure to calculate the solutions.\n",
    "* An explanation of the results.\n",
    "\n",
    "I have to grade many practices, so please, keep some order and make things as clear as possible.\n",
    "\n"
   ]
  },
  {
   "cell_type": "markdown",
   "metadata": {},
   "source": [
    "**Exercise 1:** The equation:\n",
    "\n",
    "$$\\int_{0}^{x}\\frac{1}{\\sqrt{2\\pi}}e^{-t^2/2}dt=0.45$$\n",
    "\n",
    "can be solved for $x$ by using Newton's method with\n",
    "\n",
    "$$f(x)=\\int_{0}^{x}\\frac{1}{\\sqrt{2\\pi}}e^{-t^2/2}dt-0.45$$\n",
    "\n",
    "and\n",
    "\n",
    "$$f'(x)=\\frac{1}{\\sqrt{2\\pi}}e^{-x^2/2}.$$\n",
    "\n",
    "To evaluate $f(x)$ at the approximation to the root $p_k$ we need a quadrature formula to approximate\n",
    "\n",
    "$$\\int_{0}^{p_k}\\frac{1}{\\sqrt{2\\pi}}e^{-t^2/2}dt$$\n",
    "\n",
    "1. Find a solution to $f(x) = 0$ accurate to within $10^{-5}$ using Newton’s method with $p_0 = 0.5$ and the Composite Simpson’s rule.\n",
    "\n",
    "2. Repeat (1.) using the Composite Trapezoidal rule in place of the Composite Simpson’s rule."
   ]
  },
  {
   "cell_type": "markdown",
   "metadata": {},
   "source": [
    "**Exercise 2** The integral $\\int_{0}^{x} \\sqrt{1+t^3}dt$ is one that cannot bе obtained bу the methods of elementary calculus  (It is an elliptic integral). \n",
    "\n",
    "1. Prepare а tablе \n",
    "\n",
    "\\begin{array}{|c|l|c|c|c|c|c|c|c|c|}\\hline\\\\ \n",
    "  \\textrm{x}    & &   0  &  h   &   2h   &  3h   &    4h   &  ... &  5-h   &  5      \\\\ \\hline\\\\ \n",
    "  \\textrm{f(x)} & & f(0) & f(h) & f(2h)  & f(3h) &  f(4h)  &  ... & f(5-h) & f(5)     \\\\ \\hline\n",
    "\\end{array}\n",
    "\n",
    "of the function\n",
    "\n",
    "$f(x)=\\int_{0}^{x} \\sqrt{1+t^3}dt$ on the interval $0\\leq x\\leq 5$ bу solving а suitable initial value problem **not a numerical integration method**. \n",
    "\n",
    "Use the implicit and explicit Euler methods. \n",
    "\n",
    "Start with h = 1/64 and repeat the calculation doubling the stepsize till $h=1$. \n",
    "\n",
    "2. Plot the results and explain what you see."
   ]
  },
  {
   "cell_type": "markdown",
   "metadata": {},
   "source": [
    "#### Remarks \n"
   ]
  },
  {
   "cell_type": "markdown",
   "metadata": {},
   "source": [
    "I have taken most of the methods you will see here from one of my repos. Some of them are a bit complex and are not necessarily beautifully written or efficient."
   ]
  },
  {
   "cell_type": "markdown",
   "metadata": {},
   "source": [
    "### Imports"
   ]
  },
  {
   "cell_type": "code",
   "execution_count": null,
   "metadata": {},
   "outputs": [],
   "source": [
    "import inspect      # To get the source code of methods and see the explicit dependance of the formulas. \n",
    "import sys          # To get the recursion limit and avoid implosions. \n",
    "import warnings\n",
    "\n",
    "from typing import Callable\n",
    "\n",
    "import numpy as np\n",
    "import matplotlib.pyplot as plt"
   ]
  },
  {
   "cell_type": "markdown",
   "metadata": {},
   "source": [
    "### Newton method"
   ]
  },
  {
   "cell_type": "code",
   "execution_count": null,
   "metadata": {},
   "outputs": [],
   "source": [
    "class InadequateArgsCombination(Exception):\n",
    "    pass\n",
    "\n",
    "\n",
    "def newton(err: float = 1e-4, f: 'Callable[float]' = None, f_dev: 'Callable[float]' = None,\n",
    "           integrator: 'Callable[Callable, float, float, float]' = None, differentiator: 'Callable[int, Callable, float, float, bool]' = None, *,\n",
    "           c: float = 0, x0: float = 0, n: int = 100_000, h_err: float = 1e-4) -> float:\n",
    "    r\"\"\"Newton's method to find roots of a function.\n",
    "\n",
    "    If no `f` is given but `f_dev` and `integrator` are, it will compute the roots of the integral of `f_dev` with integration constant c.\n",
    "    If `f_dev` is not given, it will be computed from `f` with the mathematical definition of a derivative.\n",
    "\n",
    "    Args:\n",
    "        err (float): Desired error of the method.\n",
    "        f (Callable[float], optional): Analytical function to find its roots. Its input is the point to be evaluated in. Defaults to None.\n",
    "        f_dev (Callable[float], optional): Analytical derivative of the function. Its input is the point to be evaluated in. Defaults to None.\n",
    "        integrator (Callable[Callable, float, float, float], optional): Integration method to compute the integral of `f_dev` and find its roots.\n",
    "            It should be `composite_trapezoid` or `composite_simpson` methods. Defaults to None.\n",
    "        differentiator (Callable[int, Callable, float, float, bool]): Differentiation method to compute the derivative of `f` during the method.\n",
    "            It should be `forward`, `backward` or `central` methods from differentiate module. Defaults to None.\n",
    "        c (float, optional): Integration constant of the integral of f_dev. Defaults to 0.\n",
    "        x0 (float, optional): Initial guess of the root.\n",
    "            Note that an inadequate first guess could lead to undesired outputs such as no roots or undesired roots.\n",
    "            Defaults to 0.\n",
    "        n (int, optional): The number of parts the interval of the integrator method is divided into. Defaults to 100_000.\n",
    "        h_err (float, optional): Finite approximation of 0 to use in the calculation of `f_dev` by its mathematical definition. Defaults to 1e-4.\n",
    "\n",
    "    Raises:\n",
    "        InadequateArgsCombination: If the combination of arguments is not valid.\n",
    "\n",
    "    Returns:\n",
    "        float|None: Root of the function or None if the algorithm reaches its recursion limit.\n",
    "    \"\"\"\n",
    "    # Decide what todo depending on the args given.\n",
    "    if (f or integrator) and f_dev:\n",
    "        if f and integrator:\n",
    "            warnings.warn('`f`, `f_dev` and `integrator` args detected. Only `f` and `f_dev` will be used for sake of precision.')\n",
    "            def iteration(iter_idx, iter_dict): return iter_dict[iter_idx] - f(iter_dict[iter_idx]) / f_dev(iter_dict[iter_idx])\n",
    "\n",
    "        elif integrator:\n",
    "            def iteration(iter_idx, iter_dict): return iter_dict[iter_idx] - (integrator(f_dev, 0, iter_dict[iter_idx], n) + c) / f_dev(iter_dict[iter_idx])\n",
    "\n",
    "        else:\n",
    "            def iteration(iter_idx, iter_dict): return iter_dict[iter_idx] - f(iter_dict[iter_idx]) / f_dev(iter_dict[iter_idx])\n",
    "\n",
    "    elif (f_dev or differentiator) and f:\n",
    "\n",
    "        if f_dev and differentiator:\n",
    "            warnings.warn('`f`, `f_dev` and `differentiator` args detected. Only `f` and `f_dev` will be used for sake of precision.')\n",
    "            def iteration(iter_idx, iter_dict): return iter_dict[iter_idx] - f(iter_dict[iter_idx]) / f_dev(iter_dict[iter_idx])\n",
    "\n",
    "        elif differentiator:\n",
    "            def iteration(iter_idx, iter_dict): return iter_dict[iter_idx] - f(iter_dict[iter_idx]) / \\\n",
    "                differentiator(1, f, iter_dict[iter_idx], h_err, True)\n",
    "\n",
    "        else:\n",
    "            def iteration(iter_idx, iter_dict): return iter_dict[iter_idx] - f(iter_dict[iter_idx]) / f_dev(iter_dict[iter_idx])\n",
    "\n",
    "    else:\n",
    "        raise InadequateArgsCombination('Cannot compute Newton\\'s method with the combination of arguments given. Check the valid combinations.')\n",
    "\n",
    "    iter, iter_dict = 0, {0: x0}    # Not necessary to store all the values, but anyway\n",
    "    limit = sys.getrecursionlimit()\n",
    "\n",
    "    while True:\n",
    "        if iter + 10 >= limit: # If it does not seem to yield anything, run away.\n",
    "            warnings.warn(\n",
    "                f'Iteration limit ({limit}) reached without finding any root. Try with other initial guess or changing the recursion limit. \\\n",
    "                    Maybe there are no roots.')\n",
    "            return\n",
    "\n",
    "        iter_dict[iter+1] = iteration(iter, iter_dict)\n",
    "\n",
    "        if abs(iter_dict[iter+1] - iter_dict[iter]) < err:\n",
    "            return iter_dict[iter+1]\n",
    "\n",
    "        iter += 1"
   ]
  },
  {
   "cell_type": "markdown",
   "metadata": {},
   "source": [
    "## Exercise 1"
   ]
  },
  {
   "cell_type": "markdown",
   "metadata": {},
   "source": [
    "### Methods"
   ]
  },
  {
   "cell_type": "code",
   "execution_count": null,
   "metadata": {},
   "outputs": [],
   "source": [
    "def composite_trapezoid(f_: 'Callable[float]', a: float, b: float, n: float) -> float:\n",
    "    \"\"\"Computes the analitical solution of the integral of f from a to b\n",
    "    following the composite trapezoidal rule.\n",
    "\n",
    "    Args:\n",
    "        f_ (Callable[float]): Function to be integrated.\n",
    "        a (float): Lower bound of hte interval.\n",
    "        b (float): Upper bound of the interval.\n",
    "        n (float): The number of parts the interval is divided into.\n",
    "\n",
    "    Returns:\n",
    "        float: Numerical solution of the integral.\n",
    "    \"\"\"\n",
    "    x = np.linspace(a, b, n + 1)\n",
    "    f = f_(x)\n",
    "    h = (b - a) / (n)\n",
    "\n",
    "    return h/2 * sum(f[:n] + f[1:n+1])\n",
    "\n",
    "\n",
    "def composite_simpson(f_: 'Callable[float]', a: float, b: float, n: float) -> float:\n",
    "    \"\"\"Computes the analitical solution of the integral of f from a to b\n",
    "    following the composite Simpson's 1/3 rule.\n",
    "\n",
    "    Args:\n",
    "        f_ (Callable[float]): Function to be integrated.\n",
    "        a (float): Lower bound of hte interval.\n",
    "        b (float): Upper bound of the interval.\n",
    "        n (float): The number of parts the interval is divided into.\n",
    "\n",
    "    Returns:\n",
    "        float: Numerical solution of the integral.\n",
    "    \"\"\"\n",
    "    x = np.linspace(a, b, n+1)\n",
    "    f = f_(x)\n",
    "    h = (b - a) / (n)\n",
    "\n",
    "    return (h/3) * (f[0] + 2*sum(f[2:n-1:2]) + 4*sum(f[1:n:2]) + f[n])\n"
   ]
  },
  {
   "cell_type": "markdown",
   "metadata": {},
   "source": [
    "### Constants"
   ]
  },
  {
   "cell_type": "code",
   "execution_count": null,
   "metadata": {},
   "outputs": [],
   "source": [
    "ERR = 1e-5\n",
    "X0 = 0.5\n",
    "C = -0.45"
   ]
  },
  {
   "cell_type": "markdown",
   "metadata": {},
   "source": [
    "### Utilmethods (Function methods, wrappers ...)"
   ]
  },
  {
   "cell_type": "code",
   "execution_count": null,
   "metadata": {},
   "outputs": [],
   "source": [
    "def per_100_diff(v1: float, v2: float, n_digits: int = 2) -> float:\n",
    "    \"\"\"Computes the percentage difference between two values and rounds it to a number of digits.\n",
    "\n",
    "    Args:\n",
    "        v1 (float): One value.\n",
    "        v2 (float): Other value.\n",
    "        n_digits (int, optional): Number of digits to round the result. Defaults to 2.\n",
    "\n",
    "    Returns:\n",
    "        float: rounded percentage difference.\n",
    "    \"\"\"    \n",
    "    return round(2 * abs(v1- v2)/ (v1+v2) *100, n_digits)\n",
    "\n",
    "# function of the problem\n",
    "def f_dev(x: float) -> float:\n",
    "    return 1 / np.sqrt(2*np.pi) * np.exp(-x**2 / 2)\n",
    "\n",
    "\n",
    "def newton_simpson(err: float = ERR, n: int = 100_000) -> float:\n",
    "    \"\"\"Wrapper of Newton's method using composite Simpson's 1/3 rule.\n",
    "\n",
    "    Args:\n",
    "        err (float, optional): Tolerance used as stopping criteria in newton's method. Defaults to ERR.\n",
    "        n (int, optional): Number of subintervals used in the integartion method. Defaults to 100_000.\n",
    "\n",
    "    Returns:\n",
    "        float: Root of f_dev.\n",
    "    \"\"\"    \n",
    "    return newton(integrator=composite_simpson, f_dev=f_dev, c=C, err=err, x0=X0, n=n)\n",
    "\n",
    "def newton_trapezoid(err: float = ERR, n: int = 100_000) -> float:\n",
    "    \"\"\"Wrapper of Newton's method using composite trapezoid rule.\n",
    "\n",
    "    Args:\n",
    "        err (float, optional): Tolerance used as stopping criteria in newton's method. Defaults to ERR.\n",
    "        n (int, optional): Number of subintervals used in the integartion method. Defaults to 100_000.\n",
    "\n",
    "    Returns:\n",
    "        float: Root of f_dev.\n",
    "    \"\"\"\n",
    "    return newton(integrator=composite_trapezoid, f_dev=f_dev, c=C, err=err, x0=X0, n=n)\n",
    "\n",
    "\n",
    "def f_root(x: float, n: int = 100_000, /, *, integrator: 'function[...]', f_dev: 'function[float]' = f_dev, c: float = C) -> float:\n",
    "    \"\"\"Evaluates the function of the problem f(x).\n",
    "\n",
    "    Args:\n",
    "        x (float): Point where to evaluate the function.\n",
    "        integrator (function[...]): Integration method. `composite_trapezoide` or `composite_simpson`.\n",
    "        n (int, optional): Number of subintervals used in the integartion method. Defaults to 100_000.\n",
    "        f_dev (function[float], optional): Function to integrate. Defaults to f_dev.\n",
    "        c (float, optional): Integration constant. Defaults to C.\n",
    "\n",
    "    Returns:\n",
    "        float: Numerical result of f(x).\n",
    "    \"\"\"    \n",
    "    return integrator(f_=f_dev, a=0, b=x, n=n) + c\n",
    "\n",
    "def f_root_trapezoid(x: float, n: int = 100_000, **kwargs) -> float:\n",
    "    \"\"\"Wrapper of f_root using the trapezoid method.\n",
    "\n",
    "    Args:\n",
    "        x (float): Point where to evaluate the function.\n",
    "        n (int, optional): Number of subintervals used in the integartion method. Defaults to 100_000.\n",
    "\n",
    "    Returns:\n",
    "        float: Numerical result of f(x) using trapezoid method.\n",
    "    \"\"\"    \n",
    "    return f_root(x, n, integrator=composite_trapezoid, **kwargs)\n",
    "\n",
    "def f_root_simpson(x: float, n: int = 100_000, **kwargs) -> float:\n",
    "    \"\"\"Wrapper of f_root using the simpson's 1/3 method.\n",
    "\n",
    "    Args:\n",
    "        x (float): Point where to evaluate the function.\n",
    "        n (int, optional): Number of subintervals used in the integartion method. Defaults to 100_000.\n",
    "\n",
    "    Returns:\n",
    "        float: Numerical result of f(x) using simpson's method.\n",
    "    \"\"\"    \n",
    "    return f_root(x, n, integrator=composite_simpson, **kwargs)"
   ]
  },
  {
   "cell_type": "markdown",
   "metadata": {},
   "source": [
    "#### Premature results"
   ]
  },
  {
   "cell_type": "code",
   "execution_count": null,
   "metadata": {},
   "outputs": [],
   "source": [
    "\n",
    "result_trapezoid = newton_trapezoid()\n",
    "result_simpson = newton_simpson()\n",
    "\n",
    "f_root_trapezoid_ = f_root_trapezoid(result_trapezoid)\n",
    "f_root_simpson_ = f_root_simpson(result_trapezoid)\n",
    "\n",
    "print(f'With Trapezoidal integration, R = {result_trapezoid}, and f(R) = {f_root_trapezoid_}')\n",
    "print(f'With Simpson\\'s 1/3 integration, R = {result_simpson}, and f(R) = {f_root_simpson_}')\n"
   ]
  },
  {
   "cell_type": "markdown",
   "metadata": {},
   "source": [
    "But these numbers were obtained using an arbitrary number of subintervals for the integration techniques, concretely 100000. \n",
    "\n",
    "**Can we say this number of intervals give accurate solutions of the integrals?** - A priori, we cannot.\n",
    "\n",
    "Well, let's see the minimum number of intervals, `m`, that the integration methods need to give solutions under the asked error, $10^{-5}$."
   ]
  },
  {
   "cell_type": "markdown",
   "metadata": {},
   "source": [
    "### Determining the minimum `m` for composite trapezoidal technique."
   ]
  },
  {
   "cell_type": "markdown",
   "metadata": {},
   "source": [
    "\n",
    "Given the composite trapezoidal rule scheme:\n",
    "$$\n",
    "I_{1, m} = \\frac{b-a}{2m} \\sum_{k=0}^{m-1} \\left[ f(x_k) + f(x_{k+1})  \\right]\n",
    "$$\n",
    "\n",
    "Then, provided f is in $[a, b]$ as our ideal girl, at least $C^2$, its error is:\n",
    "$$\n",
    "E_{1, m}(f) = \\frac{b-a}{12} H^2 f''(\\chi)\n",
    "$$\n",
    "\n",
    "with $H = \\frac{b-a}{m}$:  \n",
    "$$\n",
    "E_{1, m}(f) = \\frac{(b-a)^3}{12 m^2}f''(\\chi)\n",
    "$$\n",
    "so we can deduce **m**:\n",
    "$$\n",
    "m(E) = \\sqrt{ \\frac{(b-a)^3}{12 E} f''(\\chi) }\n",
    "$$\n",
    "\n",
    "then, abusing a little bit of the notation:\n",
    "\n",
    "$$\n",
    "f = f'(x)=\\frac{1}{\\sqrt{2\\pi}}e^{-x^2/2}\n",
    "$$\n",
    "$$\n",
    "f' = -x \\frac{e^{-x^2/2}}{\\sqrt{2 \\pi}}\n",
    "$$\n",
    "$$\n",
    "f'' = (x^2 - 1) \\frac{e^{-x^2/2}}{\\sqrt{2 \\pi}}\n",
    "$$\n",
    "\n",
    "Now, to find $\\chi$ we need the next derivative and equal it to 0:\n",
    "$$\n",
    "f''' = -(x^3 - 3x) \\frac{e^{-x^2/2}}{\\sqrt{2 \\pi}} \n",
    "$$\n",
    "$$\n",
    "f''' = -(\\chi^3 - 3\\chi) \\frac{e^{-\\chi^2/2}}{\\sqrt{2 \\pi}} = 0 \\Longrightarrow \\chi = 0, \\pm \\sqrt{5 - \\sqrt{10}}\n",
    "$$\n",
    "\n",
    "Of those solutions, $-\\sqrt{5 - \\sqrt{10}}$ is out of the interval, and  $\\left|f(0)\\right| > \\left|f(\\sqrt{5 - \\sqrt{10}})\\right|$. So $\\chi = 0$\n",
    "\n",
    "Now we only have to figure out the remaining values. We want $E\\le 10^{-5}$ so $E= 10^{-5}$. \n",
    "\n",
    "The lower bound a is 0 but, what about b? As b is the guess of the root in Newton's method, it is variable. What we can do to not occupy our heads too much with it, we can set a more strict condition by setting b to the upper bound of an interval we think the solution is in. This way we can assure the error of smaller intervals are contained in this bigger interval.\n",
    "\n",
    "By trying with multiple m intervals (and absolutely not by looking at Wolfram Alpha) we know the root is more or less 1.64482. Therefore, we can set the upper bound to 2. Why 2 and not less (or more) ?. Well, as the choice is arbitrary, it is the nearest integer, and it gives me confidence :).  \n",
    "\n",
    "Then, for $a=0, \\ \\ b = 2, \\ \\chi = 0 \\ \\text{and} \\ E = 10^{-5}$ we find $m = 163.0832 \\approx  163.$\n",
    "\n"
   ]
  },
  {
   "cell_type": "markdown",
   "metadata": {},
   "source": [
    "### Determining the minimum `m` for composite Simpson's 1/3 technique."
   ]
  },
  {
   "cell_type": "markdown",
   "metadata": {},
   "source": [
    "\n",
    "\n",
    "Given the composite Simpson's 1/3 rule scheme:\n",
    "$$\n",
    "I_{2, m} = \\frac{H}{3} \\left[ f(x_0) + 2\\sum_{r=1}^{m-1} {f(x_{2r})} + 4\\sum_{s=1}^{m-1} {f(x_{2s+1})} + f(x_{2m}) \\right]\n",
    "$$\n",
    "\n",
    "Then, provided f is in $[a, b]$ at least $C^4$, its error is:\n",
    "$$\n",
    "E_{2, m}(f) = \\frac{b-a}{180} H^4 f''''(\\chi)\n",
    "$$\n",
    "\n",
    "with $H = \\frac{b-a}{m}$:  \n",
    "$$\n",
    "E_{2, m}(f) = \\frac{(b-a)^5}{180 m^4}f''(\\chi)\n",
    "$$\n",
    "so we can deduce **m**:\n",
    "$$\n",
    "m(E) = \\sqrt[4]{ \\frac{(b-a)^5}{180 E} f''''(\\chi) }\n",
    "$$\n",
    "\n",
    "then, abusing a little bit of the notation (again):\n",
    "\n",
    "$$\n",
    "f = f'(x)=\\frac{1}{\\sqrt{2\\pi}}e^{-x^2/2}\n",
    "$$\n",
    "$$\n",
    "f' = -x \\frac{e^{-x^2/2}}{\\sqrt{2 \\pi}}\n",
    "$$\n",
    "$$\n",
    "f'' = (x^2 - 1) \\frac{e^{-x^2/2}}{\\sqrt{2 \\pi}}\n",
    "$$\n",
    "$$\n",
    "f''' = -(x^3 - 3x) \\frac{e^{-x^2/2}}{\\sqrt{2 \\pi}}\n",
    "$$\n",
    "$$\n",
    "f'''' = (x^4 - 6x^2 + 3) \\frac{e^{-x^2/2}}{\\sqrt{2 \\pi}}\n",
    "$$\n",
    "\n",
    "Now, to find $\\chi$ we need the next derivative and equal it to 0:\n",
    "$$\n",
    "f^{(5)} = -(x^5 -10x^3 + 15x) \\frac{e^{-x^2/2}}{\\sqrt{2 \\pi}} \n",
    "$$\n",
    "$$\n",
    "f^{(5)} = -(\\chi^5 -10\\chi^3 + 15\\chi)\\frac{e^{-\\chi^2/2}}{\\sqrt{2 \\pi}} = 0 \\Longrightarrow \\chi = 0, \\pm \\sqrt{3} \n",
    "$$\n",
    "\n",
    "Of those solutions, $-\\sqrt{3}$ is out of the interval, and $\\left| f(0)\\right| > \\left|f(\\sqrt{3})\\right|$. So $\\chi = 0$\n",
    "\n",
    "Therefore $f''''(\\chi)$ is\n",
    "$$\n",
    "f''''(\\chi) = \\frac{3}{\\sqrt{2\\pi}}\n",
    "$$\n",
    "\n",
    "Following the same procedure as with the trapezoidal technique, for $a=0, \\ \\ b = 2, \\ \\text{and} \\ E = 10^{-5}$ we find $m = 12.0775 \\approx 12 .$"
   ]
  },
  {
   "cell_type": "markdown",
   "metadata": {},
   "source": [
    "### Conclusion"
   ]
  },
  {
   "cell_type": "markdown",
   "metadata": {},
   "source": [
    "We got that the minimum m for the trapezoidal integration $\\equiv$ $m_t$ is 163 and the one for the simpson technique, $m_s$, is 12. \n",
    "\n",
    "Therefore we can assure that the results we obtained in *Premature results* are valid and do not vary the slightest (with the precision required) compared to the results we obtain with $m_t$ and $m_s$."
   ]
  },
  {
   "cell_type": "code",
   "execution_count": null,
   "metadata": {},
   "outputs": [],
   "source": [
    "m_t, m_s = 163, 12\n",
    "\n",
    "\n",
    "result_trapezoid_m_t = newton_trapezoid(n=m_t)\n",
    "result_simpson_m_s = newton_simpson(n=m_s)\n",
    "\n",
    "f_root_trapezoid_ = f_root_trapezoid(result_trapezoid, n=m_t)\n",
    "f_root_simpson_ = f_root_simpson(result_trapezoid, n=m_s)\n",
    "\n",
    "print(f'With Trapezoidal integration, R = {result_trapezoid}, and f(R) = {f_root_trapezoid_}')\n",
    "print(f'With Simpson\\'s 1/3 integration, R = {result_simpson}, and f(R) = {f_root_simpson_}')\n"
   ]
  },
  {
   "cell_type": "markdown",
   "metadata": {},
   "source": [
    "Rounding to the fifth digit and doing the % difference between them ge get:"
   ]
  },
  {
   "cell_type": "code",
   "execution_count": null,
   "metadata": {},
   "outputs": [],
   "source": [
    "\n",
    "print('% Difference in trapezoidal results: ', per_100_diff(round(result_trapezoid, 5), round(result_trapezoid_m_t, 5)))\n",
    "print('% Difference in simpson\\'s 1/3 results: ', per_100_diff(round(result_simpson, 5), round(result_simpson_m_s, 5)))"
   ]
  },
  {
   "cell_type": "markdown",
   "metadata": {},
   "source": [
    "Which is what we expected"
   ]
  },
  {
   "cell_type": "markdown",
   "metadata": {},
   "source": [
    "# Exercise 2"
   ]
  },
  {
   "cell_type": "markdown",
   "metadata": {},
   "source": [
    "### Methods"
   ]
  },
  {
   "cell_type": "code",
   "execution_count": null,
   "metadata": {},
   "outputs": [],
   "source": [
    "def euler_explicit(f: 'Callable[float, float]', y0: float, t0: float, t: float, h: float) -> np.ndarray:\n",
    "    r\"\"\"Computes the explicit (forward) Euler method to solve ODEs.\n",
    "    \n",
    "    Args:\n",
    "        f (Callable[float, float]): Function depending on y and t in that order.\n",
    "            Equivalent to f(y,t).\n",
    "        y0 (float): Initial value of the answer.\n",
    "            Equivalent to y(t0).\n",
    "        t0 (float): Initial time.\n",
    "        t (float): Final time.\n",
    "        h (float): Separation between the points of the interval.\n",
    "\n",
    "    Returns:\n",
    "        np.ndarray: Numerical solution of the ODE in the interval [t0, t0+h, ..., t-h, t].\n",
    "\n",
    "    Examples:\n",
    "\n",
    "        Lets solve the problem\n",
    "\n",
    "        :math: `$$\\begin{array}{l}\n",
    "                y'=\\lambda y \\\\\n",
    "                y(0) = 1\n",
    "                \\end{array}$$`\n",
    "\n",
    "        for :math:`$\\lambda = -1$` over the interval :math: `$[0,1]$` for a stepsize `$h=0.1$`.\n",
    "\n",
    "        Then:\n",
    "        >>> f = lambda y, t: -y\n",
    "        >>> y0 = 1\n",
    "        >>> h = 0.1\n",
    "        >>> t0, t = 0, 1\n",
    "        >>> y = euler_explicit(f, y0, t0, t, h)\n",
    "        >>> print(y)\n",
    "    \"\"\"\n",
    "    t_ = np.arange(t0, t+h, h)\n",
    "    N = len(t_)\n",
    "\n",
    "    u = np.zeros_like(t_)\n",
    "    u[0] = y0\n",
    "\n",
    "    for i in range(N-1):\n",
    "        u[i+1] = u[i] + h * f(u[i], t_[i])\n",
    "\n",
    "    return u\n",
    "\n",
    "\n",
    "def euler_implicit(f: 'Callable[float, float]', y0: float, t0: float, t: float, h: float, *args, **kwargs) -> np.ndarray:\n",
    "    \"\"\"Computes the implicit (backward) Euler method to solve ODEs.\n",
    "\n",
    "    If `f` argument has an explicit dependence on `y`, Newton\\' method is used to compute the next iteration the algorithm.\n",
    "    Then, `err` must be passed as extra argument, and it is recommended to pass the analytical derivative of `f` as f_dev.\n",
    "    In case this last `f_dev` is not passed, Newton\\' method will use finite differences to numerically obtain it.\n",
    "    \n",
    "    See more about Newton\\' method in module roots.\n",
    "\n",
    "    Args:\n",
    "        f (Callable[float, float]): Function depending on y and t in that order.\n",
    "            Equivalent to f(y,t).\n",
    "        y0 (float): Initial value of the answer.\n",
    "            Equivalent to y(t0).\n",
    "        t0 (float): Initial time.\n",
    "        t (float): Final time.\n",
    "        h (float): Separation between the points of the interval.\n",
    "\n",
    "    Returns:\n",
    "        np.ndarray: Numerical solution of the ODE in the interval [t0, t0+h, ..., t-h, t].\n",
    "    \"\"\"\n",
    "    #------ Check wether f depend explicitly on y\n",
    "    returns_of_f = inspect.getsource(f).split('return')\n",
    "    lambdas_of_f = inspect.getsource(f).split('lambda')\n",
    "\n",
    "    n_returns_of_f = len(returns_of_f)\n",
    "    n_lambdas_of_f = len(lambdas_of_f)\n",
    "\n",
    "    if n_returns_of_f > 2 or n_lambdas_of_f > 2:\n",
    "        raise ValueError('Function `f` is not valid. It can only have one return or one lambda.')\n",
    "\n",
    "    if n_returns_of_f < 2 and n_lambdas_of_f < 2:\n",
    "        raise ValueError('Function `f` is not valid. It must have one return or one lambda.')\n",
    "\n",
    "    elif n_returns_of_f == 2:\n",
    "        function_of_f = returns_of_f[-1]\n",
    "\n",
    "    elif n_lambdas_of_f == 2:\n",
    "        function_of_f = lambdas_of_f[-1].split(':')[-1]\n",
    "    #--------------------------------\n",
    "\n",
    "    t_ = np.arange(t0, t+h, h)\n",
    "    N = len(t_)\n",
    "\n",
    "    u = np.zeros_like(t_)\n",
    "    u[0] = y0\n",
    "\n",
    "    if 'y' in function_of_f: #This could lead to bugs if there is some method with y\n",
    "\n",
    "        for i in range(N-1):\n",
    "            def g(y): return u[i] - u[i+1] + h*f(y, t_[i+1])\n",
    "            u[i+1] = newton(*args, **kwargs, f=g, x0=u[i])\n",
    "    else:\n",
    "      \n",
    "        for i in range(N-1):\n",
    "            u[i+1] = u[i] + h*f(None, t_[i+1])\n",
    "\n",
    "    return u"
   ]
  },
  {
   "cell_type": "markdown",
   "metadata": {},
   "source": [
    "### Constants"
   ]
  },
  {
   "cell_type": "code",
   "execution_count": null,
   "metadata": {},
   "outputs": [],
   "source": [
    "F0 = 0\n",
    "X0_, X = 0, 5\n",
    "\n",
    "h = [1/64, 1/32, 1/16, 1/8, 1/4, 1/2, 1]"
   ]
  },
  {
   "cell_type": "markdown",
   "metadata": {},
   "source": [
    "### Utilmethods (Function methods, wrappers ...)"
   ]
  },
  {
   "cell_type": "code",
   "execution_count": null,
   "metadata": {},
   "outputs": [],
   "source": [
    "# Function of the problem.\n",
    "def f_deriv(y, t):\n",
    "    return np.sqrt(1 + t**3) \n",
    "\n",
    "def get_results(euler: 'function[function, float, float, float, float]', h: list = h) -> 'dict[float:list]':\n",
    "    \"\"\"Computes by one euler method the solutions for some given h values.\n",
    "\n",
    "    Args:\n",
    "        euler (function[function, float, float, float, float]): ODE solver. `euler_explicit` or `euler_implicit`.\n",
    "        h (list, optional): Contains the values of h used to solve the ODE. Defaults to h.\n",
    "\n",
    "    Returns:\n",
    "        dict: With key the h used to compute the solution in the value.\n",
    "    \"\"\"\n",
    "    results = {}  \n",
    "    for hi in h:\n",
    "        results[hi] = euler(f=f_deriv, y0=F0, t0=X0_, t=X, h=hi)\n",
    "\n",
    "    return results\n",
    "\n",
    "def print_table_results(results: 'dict[int:list]', n_digits: int = 3) -> None:\n",
    "    \"\"\"Prints the elements rounded to a number of digits of each solution stored in a dict.\n",
    "\n",
    "    Args:\n",
    "        results (dict): Dict obtained using `get_results`.\n",
    "        n_digits (int, optional): Number of digits to round each elements of the solution\n",
    "            (for sake of readability). Defaults to 3.\n",
    "    \"\"\"\n",
    "    for h, result in results.items():\n",
    "        print(f'f(x) for h = 1/{round(1/h)}: \\n \\n ', *[round(i, n_digits) for i in result], '\\n')\n",
    "\n",
    "def plot_results(results: 'dict[int:list]') -> None:\n",
    "    \"\"\"Plots the solutions stored in a dict.\n",
    "\n",
    "    Args:\n",
    "        results (dict): Dict obtained using `get_results`.\n",
    "    \"\"\"\n",
    "    for hi, resultad in results.items():\n",
    "        plt.plot( np.arange(X0_, X+hi, hi), resultad, label=f'With h={hi}')\n",
    "    \n",
    "    plt.xlabel('x')\n",
    "    plt.ylabel('f(x)')\n",
    "    plt.legend()\n",
    "    plt.show()\n"
   ]
  },
  {
   "cell_type": "markdown",
   "metadata": {},
   "source": [
    "### Getting data"
   ]
  },
  {
   "cell_type": "code",
   "execution_count": null,
   "metadata": {},
   "outputs": [],
   "source": [
    "results_explicit = get_results(euler_explicit)\n",
    "results_implicit = get_results(euler_implicit)"
   ]
  },
  {
   "cell_type": "markdown",
   "metadata": {},
   "source": [
    "### Preparing Tables"
   ]
  },
  {
   "cell_type": "code",
   "execution_count": null,
   "metadata": {},
   "outputs": [],
   "source": [
    "print_table_results(results_explicit)"
   ]
  },
  {
   "cell_type": "code",
   "execution_count": null,
   "metadata": {},
   "outputs": [],
   "source": [
    "print_table_results(results_implicit)"
   ]
  },
  {
   "cell_type": "markdown",
   "metadata": {},
   "source": [
    "### Plotting data"
   ]
  },
  {
   "cell_type": "code",
   "execution_count": null,
   "metadata": {},
   "outputs": [],
   "source": [
    "plt.title('$f(x)=\\int_0^x{\\sqrt{1+t^3} dt}$ by explicit Euler')\n",
    "plot_results(results_explicit)"
   ]
  },
  {
   "cell_type": "code",
   "execution_count": null,
   "metadata": {},
   "outputs": [],
   "source": [
    "plt.title('$f(x)=\\int_0^x{\\sqrt{1+t^3} dt}$ by implicit Euler')\n",
    "plot_results(results_implicit)"
   ]
  },
  {
   "cell_type": "markdown",
   "metadata": {},
   "source": [
    "### Why we see what we see?"
   ]
  },
  {
   "cell_type": "markdown",
   "metadata": {},
   "source": [
    "Well, we can eplain what we see in many ways but I will present two similar, and in fact complementary, aprroaches.\n",
    "\n",
    "#### First aprroach\n",
    "\n",
    "When deducing euler method, we expand the taylor series of the solution, rejecting every term oh higher order:\n",
    "\n",
    "$$\n",
    "y(t_i + h) = y(t_i) + hf(t_i, y_i) + \\ ... \\ \\ \\left[\\frac{h}{2}y''(\\phi_i) + ... \\right] \\quad\\quad \\phi_i \\in [t_i, t_i + h]\n",
    "$$\n",
    "\n",
    "Well, what happens is that in each euler approximation, explicit and implicit, these rejected terms, residuals, play a crucial role in deciding how the numerical solution will approach to the analytical solution, contributing to the fact that the explicit (called forward for something...) euler method approches from the front, and the implicit (called backward for something...) euler method approches from the behind.\n",
    "\n",
    "#### Second approach\n",
    "\n",
    "Without entering in detail, mainly because we can visually check them in the graphs above, we know that there are three sources of error; namely local truncation error, accumulated truncation error and round off errror. Well, these sources of error (some call them p*** in the **s) are the cause of these deviations. \n",
    "\n",
    "Just to have some analytical definitions with us:\n",
    "\n",
    "The explicit Euler method really is \n",
    "$$\n",
    "y'_{n+1} = \\frac{y_{n+1}- y_n}{h} + \\tau_n(h)\n",
    "$$\n",
    "\n",
    "Where $\\tau_n(h)$ is the local truncation error, which goes to zero as h gets smaller $\\left( h \\to 0 \\longrightarrow \\tau_n(h) \\to 0 \\right)$\n",
    "\n",
    "So we can forget its existance (a little bit tragic its life, now that I about think it. Anyway. ). \n",
    "\n",
    "But this is not all, we have to take in mind that the numbers that are computed have an associated error $e$.\n",
    "\n",
    "Then, if $Y$ is the analytical value, $y_{n+1} =  Y_{n+1} + e_{n+1}$ and \n",
    "$$\n",
    "y'_{n+1} = \\frac{Y_{n+1}- Y_n}{h} + E_n(y_n, h)\n",
    "$$\n",
    "\n",
    "where $E_n$ is the error we care about, equivalent to\n",
    "$$\n",
    "E_n = E_{round} + E_{trunc} = \\frac{e_{n+1} - e_n }{h} + \\frac{h}{2}y''(\\psi) \\quad \\quad \\text{where} \\ \\psi \\ \\text{is a value of the solution}\n",
    "$$\n",
    "\n",
    "There is our error. "
   ]
  },
  {
   "cell_type": "markdown",
   "metadata": {},
   "source": [
    "#### Conclusion\n",
    "\n",
    "**Why we see what we see**\n",
    "\n",
    "In one method $E_n$ is positive and in the other it is negative.\n"
   ]
  }
 ],
 "metadata": {
  "kernelspec": {
   "display_name": "Python 3",
   "language": "python",
   "name": "python3"
  },
  "language_info": {
   "codemirror_mode": {
    "name": "ipython",
    "version": 3
   },
   "file_extension": ".py",
   "mimetype": "text/x-python",
   "name": "python",
   "nbconvert_exporter": "python",
   "pygments_lexer": "ipython3",
   "version": "3.8.0"
  }
 },
 "nbformat": 4,
 "nbformat_minor": 4
}
