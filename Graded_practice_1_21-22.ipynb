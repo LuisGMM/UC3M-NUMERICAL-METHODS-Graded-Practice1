{
 "cells": [
  {
   "cell_type": "markdown",
   "metadata": {},
   "source": [
    "Before you turn this problem in, make sure everything runs as e\\chipected. First, **restart the kernel** (in the menubar, select Kernel$\\rightarrow$Restart) and then **run all cells** (in the menubar, select Cell$\\rightarrow$Run All).\n",
    "\n",
    "Make sure you fill in any place that says `YOUR CODE HERE` or \"YOUR ANSWER HERE\", as well as your name and collaborators below:"
   ]
  },
  {
   "cell_type": "code",
   "execution_count": 88,
   "metadata": {},
   "outputs": [],
   "source": [
    "NAME = \"Luis Grau Martín-Maldonado\"\n",
    "COLLABORATORS = \"\""
   ]
  },
  {
   "cell_type": "markdown",
   "metadata": {},
   "source": [
    "---"
   ]
  },
  {
   "cell_type": "markdown",
   "metadata": {},
   "source": [
    "# **Graded practice 1**"
   ]
  },
  {
   "cell_type": "markdown",
   "metadata": {},
   "source": [
    "## Practice guide\n",
    "\n",
    "In this first graded practice you have to solve the exercises below. In order to do that you will need to code the Newton's method, the composite trapezoidal rule, the composite Simpson's Rule, explicit and implicit Euler's methods.\n",
    "\n",
    "You should already have some of these codes from the regular practices, but make sure that your code is only yours.\n",
    "\n",
    "You will have to handle a notebook with:\n",
    "\n",
    "* The working programs that solve the exercises. I will run all the codes.\n",
    "* An explanation of the methods you are using.\n",
    "* An explanation of your procedure to calculate the solutions.\n",
    "* An explanation of the results.\n",
    "\n",
    "I have to grade many practices, so please, keep some order and make things as clear as possible.\n",
    "\n"
   ]
  },
  {
   "cell_type": "markdown",
   "metadata": {},
   "source": [
    "**Exercise 1:** The equation:\n",
    "\n",
    "$$\\int_{0}^{x}\\frac{1}{\\sqrt{2\\pi}}e^{-t^2/2}dt=0.45$$\n",
    "\n",
    "can be solved for $x$ by using Newton's method with\n",
    "\n",
    "$$f(x)=\\int_{0}^{x}\\frac{1}{\\sqrt{2\\pi}}e^{-t^2/2}dt-0.45$$\n",
    "\n",
    "and\n",
    "\n",
    "$$f'(x)=\\frac{1}{\\sqrt{2\\pi}}e^{-x^2/2}.$$\n",
    "\n",
    "To evaluate $f(x)$ at the approximation to the root $p_k$ we need a quadrature formula to approximate\n",
    "\n",
    "$$\\int_{0}^{p_k}\\frac{1}{\\sqrt{2\\pi}}e^{-t^2/2}dt$$\n",
    "\n",
    "1. Find a solution to $f(x) = 0$ accurate to within $10^{-5}$ using Newton’s method with $p_0 = 0.5$ and the Composite Simpson’s rule.\n",
    "\n",
    "2. Repeat (1.) using the Composite Trapezoidal rule in place of the Composite Simpson’s rule."
   ]
  },
  {
   "cell_type": "markdown",
   "metadata": {},
   "source": [
    "**Exercise 2** The integral $\\int_{0}^{x} \\sqrt{1+t^3}dt$ is one that cannot bе obtained bу the methods of elementary calculus  (It is an elliptic integral). \n",
    "\n",
    "1. Prepare а tablе \n",
    "\n",
    "\\begin{array}{|c|l|c|c|c|c|c|c|c|c|}\\hline\\\\ \n",
    "  \\textrm{x}    & &   0  &  h   &   2h   &  3h   &    4h   &  ... &  5-h   &  5      \\\\ \\hline\\\\ \n",
    "  \\textrm{f(x)} & & f(0) & f(h) & f(2h)  & f(3h) &  f(4h)  &  ... & f(5-h) & f(5)     \\\\ \\hline\n",
    "\\end{array}\n",
    "\n",
    "of the function\n",
    "\n",
    "$f(x)=\\int_{0}^{x} \\sqrt{1+t^3}dt$ on the interval $0\\leq x\\leq 5$ bу solving а suitable initial value problem **not a numerical integration method**. \n",
    "\n",
    "Use the implicit and explicit Euler methods. \n",
    "\n",
    "Start with h = 1/64 and repeat the calculation doubling the stepsize till $h=1$. \n",
    "\n",
    "2. Plot the results and explain what you see."
   ]
  },
  {
   "cell_type": "markdown",
   "metadata": {},
   "source": [
    "### Imports"
   ]
  },
  {
   "cell_type": "code",
   "execution_count": 89,
   "metadata": {},
   "outputs": [],
   "source": [
    "import inspect\n",
    "import sys\n",
    "import warnings\n",
    "\n",
    "import numpy as np\n",
    "import matplotlib.pyplot as plt"
   ]
  },
  {
   "cell_type": "markdown",
   "metadata": {},
   "source": [
    "### Newton method"
   ]
  },
  {
   "cell_type": "code",
   "execution_count": 90,
   "metadata": {},
   "outputs": [],
   "source": [
    "class InadequateArgsCombination(Exception):\n",
    "    pass\n",
    "\n",
    "\n",
    "def newton(err: float = 1e-4, f: 'Callable[float]' = None, f_dev: 'Callable[float]' = None,\n",
    "           integrator: 'Callable[Callable, float, float, float]' = None, differentiator: 'Callable[int, Callable, float, float, bool]' = None, *,\n",
    "           c: float = 0, x0: float = 0, n: int = 100_000, h_err: float = 1e-4) -> float:\n",
    "    r\"\"\"Newton's method to find roots of a function.\n",
    "\n",
    "    If no `f` is given but `f_dev` and `integrator` are, it will compute the roots of the integral of `f_dev` with integration constant c.\n",
    "    If `f_dev` is not given, it will be computed from `f` with the mathematical definition of a derivative.\n",
    "\n",
    "    Args:\n",
    "        err (float): Desired error of the method.\n",
    "        f (Callable[float], optional): Analytical function to find its roots. Its input is the point to be evaluated in. Defaults to None.\n",
    "        f_dev (Callable[float], optional): Analytical derivative of the function. Its input is the point to be evaluated in. Defaults to None.\n",
    "        integrator (Callable[Callable, float, float, float], optional): Integration method to compute the integral of `f_dev` and find its roots.\n",
    "            It should be `composite_trapezoid` or `composite_simpson` methods. Defaults to None.\n",
    "        differentiator (Callable[int, Callable, float, float, bool]): Differentiation method to compute the derivative of `f` during the method.\n",
    "            It should be `forward`, `backward` or `central` methods from differentiate module. Defaults to None.\n",
    "        c (float, optional): Integration constant of the integral of f_dev. Defaults to 0.\n",
    "        x0 (float, optional): Initial guess of the root.\n",
    "            Note that an inadequate first guess could lead to undesired outputs such as no roots or undesired roots.\n",
    "            Defaults to 0.\n",
    "        n (int, optional): The number of parts the interval of the integrator method is divided into. Defaults to 100_000.\n",
    "        h_err (float, optional): Finite approximation of 0 to use in the calculation of `f_dev` by its mathematical definition. Defaults to 1e-4.\n",
    "\n",
    "    Raises:\n",
    "        InadequateArgsCombination: If the combination of arguments is not valid.\n",
    "\n",
    "    Returns:\n",
    "        float|None: Root of the function or None if the algorithm reaches its recursion limit.\n",
    "    \"\"\"\n",
    "    if (f or integrator) and f_dev:\n",
    "        if f and integrator:\n",
    "            warnings.warn('`f`, `f_dev` and `integrator` args detected. Only `f` and `f_dev` will be used for sake of precision.')\n",
    "            def iteration(iter_idx, iter_dict): return iter_dict[iter_idx] - f(iter_dict[iter_idx]) / f_dev(iter_dict[iter_idx])\n",
    "\n",
    "        elif integrator:\n",
    "            def iteration(iter_idx, iter_dict): return iter_dict[iter_idx] - (integrator(f_dev, 0, iter_dict[iter_idx], n) + c) / f_dev(iter_dict[iter_idx])\n",
    "\n",
    "        else:\n",
    "            def iteration(iter_idx, iter_dict): return iter_dict[iter_idx] - f(iter_dict[iter_idx]) / f_dev(iter_dict[iter_idx])\n",
    "\n",
    "    elif (f_dev or differentiator) and f:\n",
    "\n",
    "        if f_dev and differentiator:\n",
    "            warnings.warn('`f`, `f_dev` and `differentiator` args detected. Only `f` and `f_dev` will be used for sake of precision.')\n",
    "            def iteration(iter_idx, iter_dict): return iter_dict[iter_idx] - f(iter_dict[iter_idx]) / f_dev(iter_dict[iter_idx])\n",
    "\n",
    "        elif differentiator:\n",
    "            def iteration(iter_idx, iter_dict): return iter_dict[iter_idx] - f(iter_dict[iter_idx]) / \\\n",
    "                differentiator(1, f, iter_dict[iter_idx], h_err, True)\n",
    "\n",
    "        else:\n",
    "            def iteration(iter_idx, iter_dict): return iter_dict[iter_idx] - f(iter_dict[iter_idx]) / f_dev(iter_dict[iter_idx])\n",
    "\n",
    "    else:\n",
    "        raise InadequateArgsCombination('Cannot compute Newton\\'s method with the combination of arguments given. Check the valid combinations.')\n",
    "\n",
    "    iter, iter_dict = 0, {0: x0}\n",
    "    limit = sys.getrecursionlimit()\n",
    "\n",
    "    while True:\n",
    "        if iter + 10 >= limit:\n",
    "            warnings.warn(\n",
    "                f'Iteration limit ({limit}) reached without finding any root. Try with other initial guess or changing the recursion limit. \\\n",
    "                    Maybe there are no roots.')\n",
    "            return\n",
    "\n",
    "        iter_dict[iter+1] = iteration(iter, iter_dict)\n",
    "\n",
    "        if abs(iter_dict[iter+1] - iter_dict[iter]) < err:\n",
    "            return iter_dict[iter+1]\n",
    "\n",
    "        iter += 1"
   ]
  },
  {
   "cell_type": "markdown",
   "metadata": {},
   "source": [
    "## Exercise 1"
   ]
  },
  {
   "cell_type": "markdown",
   "metadata": {},
   "source": [
    "### Methods"
   ]
  },
  {
   "cell_type": "code",
   "execution_count": 91,
   "metadata": {},
   "outputs": [],
   "source": [
    "def composite_trapezoid(f_: 'Callable[float]', a: float, b: float, n: float) -> float:\n",
    "    \"\"\"Computes the analitical solution of the integral of f from a to b\n",
    "    following the composite trapezoidal rule.\n",
    "\n",
    "    Args:\n",
    "        f_ (Callable[float]): Function to be integrated.\n",
    "        a (float): Lower bound of hte interval.\n",
    "        b (float): Upper bound of the interval.\n",
    "        n (float): The number of parts the interval is divided into.\n",
    "\n",
    "    Returns:\n",
    "        float: Numerical solution of the integral.\n",
    "    \"\"\"\n",
    "    x = np.linspace(a, b, n + 1)\n",
    "    f = f_(x)\n",
    "    h = (b - a) / (n)\n",
    "\n",
    "    return h/2 * sum(f[:n] + f[1:n+1])\n",
    "\n",
    "\n",
    "def composite_simpson(f_: 'Callable[float]', a: float, b: float, n: float) -> float:\n",
    "    \"\"\"Computes the analitical solution of the integral of f from a to b\n",
    "    following the composite Simpson's 1/3 rule.\n",
    "\n",
    "    Args:\n",
    "        f_ (Callable[float]): Function to be integrated.\n",
    "        a (float): Lower bound of hte interval.\n",
    "        b (float): Upper bound of the interval.\n",
    "        n (float): The number of parts the interval is divided into.\n",
    "\n",
    "    Returns:\n",
    "        float: Numerical solution of the integral.\n",
    "    \"\"\"\n",
    "    x = np.linspace(a, b, n+1)\n",
    "    f = f_(x)\n",
    "    h = (b - a) / (n)\n",
    "\n",
    "    return (h/3) * (f[0] + 2*sum(f[2:n-1:2]) + 4*sum(f[1:n:2]) + f[n])\n"
   ]
  },
  {
   "cell_type": "markdown",
   "metadata": {},
   "source": [
    "### Constants"
   ]
  },
  {
   "cell_type": "code",
   "execution_count": 92,
   "metadata": {},
   "outputs": [],
   "source": [
    "ERR = 1e-5\n",
    "X0 = 0.5\n",
    "C = -0.45"
   ]
  },
  {
   "cell_type": "markdown",
   "metadata": {},
   "source": [
    "### Utilmethods (Function methods, wrappers ...)"
   ]
  },
  {
   "cell_type": "code",
   "execution_count": 107,
   "metadata": {},
   "outputs": [],
   "source": [
    "def per_100_diff(v1, v2, n_digits=2):\n",
    "    return round(2 * abs(v1- v2)/ (v1+v2) *100, n_digits)\n",
    "\n",
    "def f_dev(x: float) -> float:\n",
    "    return 1 / np.sqrt(2*np.pi) * np.exp(-x**2 / 2)\n",
    "\n",
    "\n",
    "def newton_simpson(err: float = ERR, n: int = 100_000) -> float:\n",
    "     return newton(integrator=composite_simpson, f_dev=f_dev, c=C, err=err, x0=X0, n=n)\n",
    "\n",
    "def newton_trapezoid(err: float = ERR, n: int = 100_000) -> float:\n",
    "    return newton(integrator=composite_trapezoid, f_dev=f_dev, c=C, err=err, x0=X0, n=n)\n",
    "\n",
    "\n",
    "def f_root(x: float, n: int = 100_000, /, *, integrator: 'function[...]', f_dev: 'function[float]' = f_dev, c: float = C) -> float:\n",
    "    return integrator(f_=f_dev, a=0, b=x, n=n) + c\n",
    "\n",
    "def f_root_trapezoid(x: float, n: int = 100_000, **kwargs) -> float:\n",
    "    return f_root(x, n, integrator=composite_trapezoid, **kwargs)\n",
    "\n",
    "def f_root_simpson(x: float, n: int = 100_000, **kwargs) -> float:\n",
    "    return f_root(x, n, integrator=composite_simpson, **kwargs)"
   ]
  },
  {
   "cell_type": "markdown",
   "metadata": {},
   "source": [
    "#### Premature results"
   ]
  },
  {
   "cell_type": "code",
   "execution_count": 94,
   "metadata": {},
   "outputs": [
    {
     "name": "stdout",
     "output_type": "stream",
     "text": [
      "With Trapezoidal integration, R = 1.6448536269886, and f(R) = 1.5654144647214707e-14\n",
      "With Simpson's 1/3 integration, R = 1.644853626951474, and f(R) = 3.827493877395227e-12\n"
     ]
    }
   ],
   "source": [
    "\n",
    "result_trapezoid = newton_trapezoid()\n",
    "result_simpson = newton_simpson()\n",
    "\n",
    "f_root_trapezoid_ = f_root_trapezoid(result_trapezoid)\n",
    "f_root_simpson_ = f_root_simpson(result_trapezoid)\n",
    "\n",
    "print(f'With Trapezoidal integration, R = {result_trapezoid}, and f(R) = {f_root_trapezoid_}')\n",
    "print(f'With Simpson\\'s 1/3 integration, R = {result_simpson}, and f(R) = {f_root_simpson_}')\n"
   ]
  },
  {
   "cell_type": "markdown",
   "metadata": {},
   "source": [
    "But these numbers were obtained using an arbitrary number of subintervals for the integration techniques, concretely 100000. \n",
    "\n",
    "**Can we say this number of intervals give accurate solutions of the integrals?** - A priori, nwe cannot.\n",
    "\n",
    "Well, let's see the minimum number of intervals, `m`, that the integration methods need to give solutions under the asked error, $10^{-5}$."
   ]
  },
  {
   "cell_type": "markdown",
   "metadata": {},
   "source": [
    "### Determining the minimum `m` for composite trapezoidal technique."
   ]
  },
  {
   "cell_type": "markdown",
   "metadata": {},
   "source": [
    "\n",
    "Given the composite trapezoidal rule scheme:\n",
    "$$\n",
    "I_{1, m} = \\frac{b-a}{2m} \\sum_{k=0}^{m-1} \\left[ f(x_k) + f(x_{k+1})  \\right]\n",
    "$$\n",
    "\n",
    "Then, provided f is in $[a, b]$ as our ideal girl, at least $C^2$, its error is:\n",
    "$$\n",
    "E_{1, m}(f) = \\frac{b-a}{12} H^2 f''(\\chi)\n",
    "$$\n",
    "\n",
    "with $H = \\frac{b-a}{m}$:  \n",
    "$$\n",
    "E_{1, m}(f) = \\frac{(b-a)^3}{12 m^2}f''(\\chi)\n",
    "$$\n",
    "so we can deduce **m**:\n",
    "$$\n",
    "m(E) = \\sqrt{ \\frac{(b-a)^3}{12 E} f''(\\chi) }\n",
    "$$\n",
    "\n",
    "then, abusing a little bit of the notation:\n",
    "\n",
    "$$\n",
    "f = f'(x)=\\frac{1}{\\sqrt{2\\pi}}e^{-x^2/2}\n",
    "$$\n",
    "$$\n",
    "f' = -x \\frac{e^{-x^2/2}}{\\sqrt{2 \\pi}}\n",
    "$$\n",
    "$$\n",
    "f'' = (x^2 - 1) \\frac{e^{-x^2/2}}{\\sqrt{2 \\pi}}\n",
    "$$\n",
    "\n",
    "Now, to find $\\chi$ we need the next derivative and equal it to 0:\n",
    "$$\n",
    "f''' = -(x^3 - 3x) \\frac{e^{-x^2/2}}{\\sqrt{2 \\pi}} \n",
    "$$\n",
    "$$\n",
    "f''' = -(\\chi^3 - 3\\chi) \\frac{e^{-\\chi^2/2}}{\\sqrt{2 \\pi}} = 0 \\Longrightarrow \\chi = 0, \\pm \\sqrt{5 - \\sqrt{10}}\n",
    "$$\n",
    "\n",
    "Of those solutions, $-\\sqrt{5 - \\sqrt{10}}$ is out of the interval, and  $\\left|f(0)\\right| > \\left|f(\\sqrt{5 - \\sqrt{10}})\\right|$. So $\\chi = 0$\n",
    "\n",
    "Now we only have to figure out the remaining values. We want $E\\le 10^{-5}$ so $E= 10^{-5}$. \n",
    "\n",
    "The lower bound a is 0 but, what about b? As b is the guess of the root in Newton's method, it is variable. What we can do to not occupy our heads too much with it, we can set a more strict condition by setting b to the upper bound of an interval we think the solution is in. This way we can assure the error of smaller intervals are contained in this bigger interval.\n",
    "\n",
    "By trying with multiple m intervals (and absolutely not by looking at Wolfram Alpha) we know the root is more or less 1.64482. Therefore, we can set the upper bound to 2. \n",
    "\n",
    "Then, for $a=0, \\ \\ b = 2, \\ \\chi = 0 \\ \\text{and} \\ E = 10^{-5}$ we find $m = 163.0832 \\approx  163.$\n",
    "\n"
   ]
  },
  {
   "cell_type": "markdown",
   "metadata": {},
   "source": [
    "### Determining the minimum `m` for composite Simpson's 1/3 technique."
   ]
  },
  {
   "cell_type": "markdown",
   "metadata": {},
   "source": [
    "\n",
    "\n",
    "Given the composite Simpson's 1/3 rule scheme:\n",
    "$$\n",
    "I_{2, m} = \\frac{H}{6} \\left[ f(x_0) + 2\\sum_{r=1}^{m-1} {f(x_{2r})} + 4\\sum_{s=1}^{m-1} {f(x_{2s+1})} + f(x_{2m}) \\right]\n",
    "$$\n",
    "\n",
    "Then, provided f is in $[a, b]$ at least $C^4$, its error is:\n",
    "$$\n",
    "E_{2, m}(f) = \\frac{b-a}{180} H^4 f''''(\\chi)\n",
    "$$\n",
    "\n",
    "with $H = \\frac{b-a}{m}$:  \n",
    "$$\n",
    "E_{2, m}(f) = \\frac{(b-a)^5}{180 m^4}f''(\\chi)\n",
    "$$\n",
    "so we can deduce **m**:\n",
    "$$\n",
    "m(E) = \\sqrt[4]{ \\frac{(b-a)^5}{180 E} f''''(\\chi) }\n",
    "$$\n",
    "\n",
    "then, abusing a little bit of the notation (again):\n",
    "\n",
    "$$\n",
    "f = f'(x)=\\frac{1}{\\sqrt{2\\pi}}e^{-x^2/2}\n",
    "$$\n",
    "$$\n",
    "f' = -x \\frac{e^{-x^2/2}}{\\sqrt{2 \\pi}}\n",
    "$$\n",
    "$$\n",
    "f'' = (x^2 - 1) \\frac{e^{-x^2/2}}{\\sqrt{2 \\pi}}\n",
    "$$\n",
    "$$\n",
    "f''' = -(x^3 - 3x) \\frac{e^{-x^2/2}}{\\sqrt{2 \\pi}}\n",
    "$$\n",
    "$$\n",
    "f'''' = (x^4 - 6x^2 + 3) \\frac{e^{-x^2/2}}{\\sqrt{2 \\pi}}\n",
    "$$\n",
    "\n",
    "Now, to find $\\chi$ we need the next derivative and equal it to 0:\n",
    "$$\n",
    "f^{(5)} = -(x^5 -10x^3 + 15x) \\frac{e^{-x^2/2}}{\\sqrt{2 \\pi}} \n",
    "$$\n",
    "$$\n",
    "f^{(5)} = -(\\chi^5 -10\\chi^3 + 15\\chi)\\frac{e^{-\\chi^2/2}}{\\sqrt{2 \\pi}} = 0 \\Longrightarrow \\chi = 0, \\pm \\sqrt{3} \n",
    "$$\n",
    "\n",
    "Of those solutions, $-\\sqrt{3}$ is out of the interval, and $\\left| f(0)\\right| > \\left|f(\\sqrt{3})\\right|$. So $\\chi = 0$\n",
    "\n",
    "Therefore $f''''(\\chi)$ is\n",
    "$$\n",
    "f''''(\\chi) = \\frac{3}{\\sqrt{2\\pi}}\n",
    "$$\n",
    "\n",
    "Following the same procedure as with the trapezoidal technique, for $a=0, \\ \\ b = 2, \\ \\text{and} \\ E = 10^{-5}$ we find $m = 12.0775 \\approx 12 .$"
   ]
  },
  {
   "cell_type": "markdown",
   "metadata": {},
   "source": [
    "### Conclusion"
   ]
  },
  {
   "cell_type": "markdown",
   "metadata": {},
   "source": [
    "We got that the minimum m for the trapezoidal integration $\\equiv$ $m_t$ is 163 and the one for the simpson technique, $m_s$, is 12. \n",
    "\n",
    "Therefore we can assure that the results we obtained in *Premature results* are valid and do not vary the slightest (With the precision required) compared to the results we obtain with $m_t$ and $m_s$."
   ]
  },
  {
   "cell_type": "code",
   "execution_count": 95,
   "metadata": {},
   "outputs": [
    {
     "name": "stdout",
     "output_type": "stream",
     "text": [
      "With Trapezoidal integration, R = 1.6448536269886, and f(R) = -1.439571190642308e-06\n",
      "With Simpson's 1/3 integration, R = 1.644853626951474, and f(R) = 9.437711612214628e-08\n"
     ]
    }
   ],
   "source": [
    "m_t, m_s = 163, 12\n",
    "\n",
    "\n",
    "result_trapezoid_m_t = newton_trapezoid(n=m_t)\n",
    "result_simpson_m_s = newton_simpson(n=m_s)\n",
    "\n",
    "f_root_trapezoid_ = f_root_trapezoid(result_trapezoid, n=m_t)\n",
    "f_root_simpson_ = f_root_simpson(result_trapezoid, n=m_s)\n",
    "\n",
    "print(f'With Trapezoidal integration, R = {result_trapezoid}, and f(R) = {f_root_trapezoid_}')\n",
    "print(f'With Simpson\\'s 1/3 integration, R = {result_simpson}, and f(R) = {f_root_simpson_}')\n"
   ]
  },
  {
   "cell_type": "markdown",
   "metadata": {},
   "source": [
    "Rounding to the fifth digit and doing the % difference between them ge get:"
   ]
  },
  {
   "cell_type": "code",
   "execution_count": 108,
   "metadata": {},
   "outputs": [
    {
     "name": "stdout",
     "output_type": "stream",
     "text": [
      "% Difference in trapezoidal results:  0.0\n",
      "% Difference in simpson's 1/3 results:  0.0\n"
     ]
    }
   ],
   "source": [
    "\n",
    "print('% Difference in trapezoidal results: ', per_100_diff(round(result_trapezoid, 5), round(result_trapezoid_m_t, 5)))\n",
    "print('% Difference in simpson\\'s 1/3 results: ', per_100_diff(round(result_simpson, 5), round(result_simpson_m_s, 5)))"
   ]
  },
  {
   "cell_type": "markdown",
   "metadata": {},
   "source": [
    "Which is what we expected"
   ]
  },
  {
   "cell_type": "markdown",
   "metadata": {},
   "source": [
    "# Exercise 2"
   ]
  },
  {
   "cell_type": "markdown",
   "metadata": {},
   "source": [
    "### Methods"
   ]
  },
  {
   "cell_type": "code",
   "execution_count": 97,
   "metadata": {},
   "outputs": [],
   "source": [
    "def euler_explicit(f: 'Callable[float, float]', y0: float, t0: float, t: float, h: float) -> np.ndarray:\n",
    "    r\"\"\"Computes the explicit (forward) Euler method to solve ODEs.\n",
    "    \n",
    "    Args:\n",
    "        f (Callable[float, float]): Function depending on y and t in that order.\n",
    "            Equivalent to f(y,t).\n",
    "        y0 (float): Initial value of the answer.\n",
    "            Equivalent to y(t0).\n",
    "        t0 (float): Initial time.\n",
    "        t (float): Final time.\n",
    "        h (float): Separation between the points of the interval.\n",
    "\n",
    "    Returns:\n",
    "        np.ndarray: Numerical solution of the ODE in the interval [t0, t0+h, ..., t-h, t].\n",
    "\n",
    "    Examples:\n",
    "\n",
    "        Lets solve the problem\n",
    "\n",
    "        :math: `$$\\begin{array}{l}\n",
    "                y'=\\lambda y \\\\\n",
    "                y(0) = 1\n",
    "                \\end{array}$$`\n",
    "\n",
    "        for :math:`$\\lambda = -1$` over the interval :math: `$[0,1]$` for a stepsize `$h=0.1$`.\n",
    "\n",
    "        Then:\n",
    "        >>> f = lambda y, t: -y\n",
    "        >>> y0 = 1\n",
    "        >>> h = 0.1\n",
    "        >>> t0, t = 0, 1\n",
    "        >>> y = euler_explicit(f, y0, t0, t, h)\n",
    "        >>> print(y)\n",
    "    \"\"\"\n",
    "    t_ = np.arange(t0, t+h, h)\n",
    "    N = len(t_)\n",
    "\n",
    "    u = np.zeros_like(t_)\n",
    "    u[0] = y0\n",
    "\n",
    "    for i in range(N-1):\n",
    "        u[i+1] = u[i] + h * f(u[i], t_[i])\n",
    "\n",
    "    return u\n",
    "\n",
    "\n",
    "def euler_implicit(f: 'Callable[float, float]', y0: float, t0: float, t: float, h: float, *args, **kwargs) -> np.ndarray:\n",
    "    \"\"\"Computes the implicit (backward) Euler method to solve ODEs.\n",
    "\n",
    "    If `f` argument has an explicit dependence on `y`, Newton\\' method is used to compute the next iteration the algorithm.\n",
    "    Then, `err` must be passed as extra argument, and it is recommended to pass the analytical derivative of `f` as f_dev.\n",
    "    In case this last `f_dev` is not passed, Newton\\' method will use finite differences to numerically obtain it.\n",
    "    \n",
    "    See more about Newton\\' method in module roots.\n",
    "\n",
    "    Args:\n",
    "        f (Callable[float, float]): Function depending on y and t in that order.\n",
    "            Equivalent to f(y,t).\n",
    "        y0 (float): Initial value of the answer.\n",
    "            Equivalent to y(t0).\n",
    "        t0 (float): Initial time.\n",
    "        t (float): Final time.\n",
    "        h (float): Separation between the points of the interval.\n",
    "\n",
    "    Returns:\n",
    "        np.ndarray: Numerical solution of the ODE in the interval [t0, t0+h, ..., t-h, t].\n",
    "    \"\"\"\n",
    "    returns_of_f = inspect.getsource(f).split('return')\n",
    "    lambdas_of_f = inspect.getsource(f).split('lambda')\n",
    "\n",
    "    n_returns_of_f = len(returns_of_f)\n",
    "    n_lambdas_of_f = len(lambdas_of_f)\n",
    "\n",
    "    if n_returns_of_f > 2 or n_lambdas_of_f > 2:\n",
    "        raise ValueError('Function `f` is not valid. It can only have one return or one lambda.')\n",
    "\n",
    "    if n_returns_of_f < 2 and n_lambdas_of_f < 2:\n",
    "        raise ValueError('Function `f` is not valid. It must have one return or one lambda.')\n",
    "\n",
    "    elif n_returns_of_f == 2:\n",
    "        function_of_f = returns_of_f[-1]\n",
    "\n",
    "    elif n_lambdas_of_f == 2:\n",
    "        function_of_f = lambdas_of_f[-1].split(':')[-1]\n",
    "\n",
    "    t_ = np.arange(t0, t+h, h)\n",
    "    N = len(t_)\n",
    "\n",
    "    u = np.zeros_like(t_)\n",
    "    u[0] = y0\n",
    "\n",
    "    if 'y' in function_of_f: #This could lead to bugs if there is some method with y\n",
    "\n",
    "        for i in range(N-1):\n",
    "            def g(y): return u[i] - u[i+1] + h*f(y, t_[i+1])\n",
    "            u[i+1] = newton(*args, **kwargs, f=g, x0=u[i])\n",
    "    else:\n",
    "      \n",
    "        for i in range(N-1):\n",
    "            u[i+1] = u[i] + h*f(y=None, t=t_[i+1])\n",
    "\n",
    "    return u"
   ]
  },
  {
   "cell_type": "markdown",
   "metadata": {},
   "source": [
    "### Constants"
   ]
  },
  {
   "cell_type": "code",
   "execution_count": 98,
   "metadata": {},
   "outputs": [],
   "source": [
    "F0 = 0\n",
    "X0_, X = 0, 5\n",
    "\n",
    "h = [1/64, 1/32, 1/16, 1/8, 1/4, 1/2, 1]"
   ]
  },
  {
   "cell_type": "markdown",
   "metadata": {},
   "source": [
    "### Utilmethods (Function methods, wrappers ...)"
   ]
  },
  {
   "cell_type": "code",
   "execution_count": 99,
   "metadata": {},
   "outputs": [],
   "source": [
    "def f_deriv(y, t):\n",
    "    return np.sqrt(1 + t**3) \n",
    "\n",
    "def get_results(euler: 'function[function, float, float, float, float]', h: float = h):\n",
    "    results = {}  \n",
    "    for hi in h:\n",
    "        results[hi] = euler(f=f_deriv, y0=F0, t0=X0_, t=X, h=hi)\n",
    "\n",
    "    return results\n",
    "\n",
    "def print_table_results(results: 'dict[int:list]', n_digits: int = 3):\n",
    "    for h, result in results.items():\n",
    "        print(f'f(x) for h = 1/{round(1/h)}: \\n \\n ', *[round(i, n_digits) for i in result], '\\n')\n",
    "\n",
    "def plot_results(results: 'dict[int:list]'): \n",
    "    for hi, resultad in results.items():\n",
    "        plt.plot( np.arange(X0_, X+hi, hi), resultad, label=f'With h={hi}')\n",
    "    \n",
    "    plt.xlabel('x')\n",
    "    plt.ylabel('f(x)')\n",
    "    plt.legend()\n",
    "    plt.show()\n"
   ]
  },
  {
   "cell_type": "markdown",
   "metadata": {},
   "source": [
    "### Getting data"
   ]
  },
  {
   "cell_type": "code",
   "execution_count": 100,
   "metadata": {},
   "outputs": [],
   "source": [
    "results_explicit = get_results(euler_explicit)\n",
    "results_implicit = get_results(euler_implicit)"
   ]
  },
  {
   "cell_type": "markdown",
   "metadata": {},
   "source": [
    "### Preparing Tables"
   ]
  },
  {
   "cell_type": "code",
   "execution_count": 101,
   "metadata": {},
   "outputs": [
    {
     "name": "stdout",
     "output_type": "stream",
     "text": [
      "f(x) for h = 1/64: \n",
      " \n",
      "  0.0 0.016 0.031 0.047 0.063 0.078 0.094 0.109 0.125 0.141 0.156 0.172 0.188 0.203 0.219 0.235 0.25 0.266 0.282 0.298 0.314 0.329 0.345 0.361 0.377 0.393 0.409 0.426 0.442 0.458 0.474 0.491 0.507 0.524 0.54 0.557 0.574 0.591 0.608 0.625 0.643 0.66 0.678 0.695 0.713 0.731 0.749 0.768 0.786 0.805 0.823 0.842 0.862 0.881 0.901 0.92 0.94 0.96 0.981 1.001 1.022 1.043 1.065 1.086 1.108 1.13 1.153 1.175 1.198 1.221 1.245 1.269 1.293 1.317 1.342 1.366 1.392 1.417 1.443 1.469 1.496 1.523 1.55 1.577 1.605 1.634 1.662 1.691 1.72 1.75 1.78 1.81 1.841 1.872 1.904 1.936 1.968 2.001 2.034 2.067 2.101 2.135 2.17 2.205 2.241 2.277 2.313 2.35 2.387 2.425 2.463 2.501 2.54 2.58 2.619 2.66 2.7 2.742 2.783 2.825 2.868 2.911 2.955 2.999 3.043 3.088 3.133 3.179 3.226 3.273 3.32 3.368 3.416 3.465 3.514 3.564 3.615 3.665 3.717 3.769 3.821 3.874 3.927 3.981 4.036 4.091 4.146 4.202 4.259 4.316 4.374 4.432 4.491 4.55 4.61 4.67 4.731 4.793 4.855 4.917 4.98 5.044 5.108 5.173 5.239 5.305 5.371 5.438 5.506 5.574 5.643 5.713 5.783 5.853 5.924 5.996 6.068 6.141 6.215 6.289 6.364 6.439 6.515 6.592 6.669 6.746 6.825 6.904 6.983 7.064 7.144 7.226 7.308 7.391 7.474 7.558 7.642 7.728 7.813 7.9 7.987 8.075 8.163 8.252 8.342 8.432 8.523 8.614 8.707 8.8 8.893 8.987 9.082 9.178 9.274 9.37 9.468 9.566 9.665 9.764 9.864 9.965 10.067 10.169 10.272 10.375 10.479 10.584 10.69 10.796 10.903 11.01 11.119 11.228 11.337 11.448 11.559 11.671 11.783 11.896 12.01 12.124 12.24 12.356 12.472 12.59 12.708 12.827 12.946 13.066 13.187 13.309 13.431 13.554 13.678 13.803 13.928 14.054 14.18 14.308 14.436 14.565 14.695 14.825 14.956 15.088 15.22 15.354 15.488 15.623 15.758 15.894 16.031 16.169 16.308 16.447 16.587 16.728 16.869 17.012 17.155 17.299 17.443 17.589 17.735 17.882 18.029 18.178 18.327 18.477 18.628 18.779 18.932 19.085 19.238 19.393 19.548 19.705 19.862 20.019 20.178 20.337 20.497 20.658 20.82 20.983 21.146 21.31 21.475 21.641 21.807 21.974 22.143 22.311 22.481 22.652 22.823 22.995 23.168 23.342 23.516 \n",
      "\n",
      "f(x) for h = 1/32: \n",
      " \n",
      "  0.0 0.031 0.063 0.094 0.125 0.156 0.188 0.219 0.25 0.282 0.313 0.345 0.377 0.409 0.441 0.474 0.507 0.54 0.573 0.607 0.642 0.677 0.712 0.748 0.785 0.822 0.86 0.898 0.938 0.978 1.02 1.062 1.105 1.149 1.195 1.241 1.288 1.337 1.387 1.438 1.49 1.544 1.599 1.656 1.713 1.773 1.833 1.896 1.959 2.025 2.092 2.16 2.231 2.302 2.376 2.451 2.528 2.607 2.688 2.77 2.854 2.941 3.029 3.118 3.21 3.304 3.4 3.497 3.597 3.699 3.803 3.908 4.016 4.126 4.238 4.353 4.469 4.588 4.708 4.831 4.957 5.084 5.214 5.346 5.48 5.616 5.755 5.896 6.04 6.186 6.334 6.485 6.638 6.793 6.951 7.112 7.275 7.44 7.608 7.778 7.951 8.126 8.304 8.485 8.668 8.854 9.042 9.233 9.427 9.623 9.822 10.024 10.228 10.435 10.645 10.857 11.072 11.29 11.511 11.734 11.961 12.19 12.422 12.656 12.894 13.134 13.378 13.624 13.873 14.125 14.38 14.637 14.898 15.162 15.428 15.698 15.971 16.246 16.525 16.806 17.091 17.379 17.669 17.963 18.26 18.56 18.863 19.169 19.478 19.791 20.106 20.425 20.747 21.072 21.4 21.731 22.066 22.404 22.745 23.089 23.437 \n",
      "\n",
      "f(x) for h = 1/16: \n",
      " \n",
      "  0.0 0.062 0.125 0.188 0.25 0.313 0.377 0.441 0.506 0.572 0.64 0.71 0.782 0.856 0.934 1.014 1.099 1.187 1.28 1.377 1.479 1.587 1.7 1.818 1.943 2.074 2.211 2.354 2.505 2.663 2.827 3.0 3.179 3.367 3.562 3.766 3.977 4.197 4.426 4.663 4.909 5.164 5.428 5.701 5.983 6.275 6.576 6.887 7.208 7.539 7.88 8.23 8.592 8.963 9.345 9.738 10.141 10.555 10.98 11.415 11.862 12.321 12.79 13.271 13.763 14.267 14.783 15.31 15.849 16.4 16.964 17.539 18.126 18.726 19.339 19.963 20.601 21.251 21.914 22.589 23.278 \n",
      "\n",
      "f(x) for h = 1/8: \n",
      " \n",
      "  0.0 0.125 0.25 0.376 0.504 0.637 0.776 0.925 1.087 1.264 1.458 1.673 1.91 2.172 2.459 2.774 3.119 3.494 3.901 4.341 4.815 5.325 5.871 6.454 7.077 7.738 8.44 9.183 9.968 10.796 11.667 12.584 13.545 14.553 15.608 16.71 17.861 19.061 20.31 21.61 22.962 \n",
      "\n",
      "f(x) for h = 1/4: \n",
      " \n",
      "  0.0 0.25 0.502 0.767 1.065 1.419 1.848 2.371 3.002 3.752 4.632 5.651 6.818 8.141 9.627 11.283 13.116 15.131 17.336 19.735 22.336 \n",
      "\n",
      "f(x) for h = 1/2: \n",
      " \n",
      "  0.0 0.5 1.03 1.737 2.783 4.283 6.322 8.968 12.28 16.311 21.11 \n",
      "\n",
      "f(x) for h = 1/1: \n",
      " \n",
      "  0 1 2 5 10 18 \n",
      "\n"
     ]
    }
   ],
   "source": [
    "print_table_results(results_explicit)"
   ]
  },
  {
   "cell_type": "code",
   "execution_count": 102,
   "metadata": {},
   "outputs": [
    {
     "name": "stdout",
     "output_type": "stream",
     "text": [
      "f(x) for h = 1/64: \n",
      " \n",
      "  0.0 0.016 0.031 0.047 0.063 0.078 0.094 0.109 0.125 0.141 0.156 0.172 0.188 0.203 0.219 0.235 0.251 0.266 0.282 0.298 0.314 0.33 0.346 0.362 0.378 0.394 0.41 0.426 0.442 0.459 0.475 0.492 0.508 0.525 0.542 0.558 0.575 0.592 0.61 0.627 0.644 0.662 0.68 0.697 0.715 0.734 0.752 0.77 0.789 0.808 0.827 0.846 0.865 0.885 0.905 0.925 0.945 0.965 0.986 1.007 1.028 1.049 1.071 1.093 1.115 1.137 1.16 1.183 1.206 1.229 1.253 1.277 1.301 1.326 1.351 1.376 1.402 1.428 1.454 1.48 1.507 1.534 1.562 1.59 1.618 1.646 1.675 1.705 1.734 1.764 1.795 1.825 1.857 1.888 1.92 1.952 1.985 2.018 2.052 2.085 2.12 2.154 2.189 2.225 2.261 2.297 2.334 2.371 2.409 2.447 2.486 2.525 2.564 2.604 2.644 2.685 2.726 2.768 2.81 2.852 2.895 2.939 2.983 3.027 3.072 3.118 3.164 3.21 3.257 3.304 3.352 3.401 3.449 3.499 3.549 3.599 3.65 3.701 3.753 3.805 3.858 3.912 3.966 4.02 4.075 4.131 4.187 4.243 4.301 4.358 4.416 4.475 4.534 4.594 4.655 4.716 4.777 4.839 4.902 4.965 5.029 5.093 5.158 5.223 5.289 5.356 5.423 5.49 5.559 5.627 5.697 5.767 5.837 5.909 5.98 6.053 6.126 6.199 6.273 6.348 6.423 6.499 6.576 6.653 6.731 6.809 6.888 6.968 7.048 7.129 7.21 7.292 7.375 7.458 7.542 7.627 7.712 7.798 7.884 7.971 8.059 8.147 8.236 8.326 8.416 8.507 8.599 8.691 8.784 8.877 8.972 9.066 9.162 9.258 9.355 9.452 9.55 9.649 9.749 9.849 9.95 10.051 10.153 10.256 10.36 10.464 10.569 10.674 10.78 10.887 10.995 11.103 11.212 11.322 11.432 11.543 11.655 11.767 11.88 11.994 12.109 12.224 12.34 12.457 12.574 12.692 12.811 12.93 13.051 13.172 13.293 13.416 13.539 13.662 13.787 13.912 14.038 14.165 14.292 14.42 14.549 14.679 14.809 14.94 15.072 15.205 15.338 15.472 15.607 15.743 15.879 16.016 16.154 16.292 16.431 16.572 16.712 16.854 16.996 17.139 17.283 17.428 17.573 17.719 17.866 18.014 18.162 18.311 18.461 18.612 18.764 18.916 19.069 19.223 19.377 19.533 19.689 19.846 20.004 20.162 20.322 20.482 20.643 20.804 20.967 21.13 21.294 21.459 21.625 21.791 21.959 22.127 22.296 22.465 22.636 22.807 22.979 23.152 23.326 23.501 23.676 \n",
      "\n",
      "f(x) for h = 1/32: \n",
      " \n",
      "  0.0 0.031 0.063 0.094 0.125 0.156 0.188 0.219 0.251 0.282 0.314 0.346 0.378 0.41 0.443 0.476 0.509 0.542 0.576 0.61 0.645 0.681 0.717 0.753 0.791 0.829 0.867 0.907 0.947 0.988 1.031 1.074 1.118 1.163 1.21 1.257 1.306 1.356 1.407 1.459 1.513 1.568 1.624 1.682 1.741 1.802 1.864 1.928 1.994 2.061 2.129 2.199 2.271 2.345 2.42 2.497 2.576 2.657 2.739 2.823 2.909 2.997 3.087 3.179 3.273 3.368 3.466 3.566 3.668 3.771 3.877 3.985 4.095 4.207 4.321 4.438 4.556 4.677 4.8 4.925 5.053 5.182 5.314 5.449 5.585 5.724 5.865 6.009 6.155 6.303 6.453 6.607 6.762 6.92 7.08 7.243 7.409 7.577 7.747 7.92 8.095 8.273 8.454 8.637 8.823 9.011 9.202 9.396 9.592 9.791 9.992 10.197 10.404 10.613 10.826 11.041 11.259 11.48 11.703 11.929 12.158 12.39 12.625 12.863 13.103 13.346 13.592 13.842 14.093 14.348 14.606 14.867 15.131 15.397 15.667 15.939 16.215 16.493 16.775 17.06 17.347 17.638 17.932 18.229 18.529 18.832 19.138 19.447 19.76 20.075 20.394 20.716 21.041 21.369 21.7 22.035 22.373 22.714 23.058 23.405 23.756 \n",
      "\n",
      "f(x) for h = 1/16: \n",
      " \n",
      "  0.0 0.063 0.125 0.188 0.251 0.314 0.378 0.443 0.51 0.578 0.647 0.719 0.794 0.871 0.952 1.036 1.125 1.217 1.315 1.417 1.524 1.637 1.756 1.88 2.011 2.148 2.292 2.443 2.6 2.765 2.937 3.117 3.304 3.5 3.703 3.915 4.135 4.363 4.601 4.847 5.101 5.365 5.638 5.921 6.212 6.514 6.825 7.146 7.476 7.817 8.168 8.529 8.901 9.283 9.675 10.078 10.492 10.917 11.353 11.8 12.258 12.728 13.208 13.701 14.205 14.72 15.247 15.787 16.338 16.901 17.476 18.064 18.664 19.276 19.901 20.538 21.188 21.851 22.527 23.215 23.917 \n",
      "\n",
      "f(x) for h = 1/8: \n",
      " \n",
      "  0.0 0.125 0.251 0.379 0.512 0.651 0.8 0.962 1.139 1.333 1.548 1.785 2.047 2.334 2.649 2.994 3.369 3.776 4.216 4.69 5.2 5.746 6.329 6.952 7.613 8.315 9.058 9.843 10.671 11.542 12.459 13.42 14.428 15.483 16.585 17.736 18.936 20.185 21.485 22.837 24.24 \n",
      "\n",
      "f(x) for h = 1/4: \n",
      " \n",
      "  0.0 0.252 0.517 0.815 1.169 1.598 2.121 2.752 3.502 4.382 5.401 6.568 7.891 9.377 11.033 12.866 14.881 17.086 19.485 22.086 24.892 \n",
      "\n",
      "f(x) for h = 1/2: \n",
      " \n",
      "  0.0 0.53 1.237 2.283 3.783 5.822 8.468 11.78 15.811 20.61 26.222 \n",
      "\n",
      "f(x) for h = 1/1: \n",
      " \n",
      "  0 1 4 9 17 28 \n",
      "\n"
     ]
    }
   ],
   "source": [
    "print_table_results(results_implicit)"
   ]
  },
  {
   "cell_type": "markdown",
   "metadata": {},
   "source": [
    "### Plotting data"
   ]
  },
  {
   "cell_type": "code",
   "execution_count": 103,
   "metadata": {},
   "outputs": [
    {
     "data": {
      "image/png": "[encoded data removed]",
      "text/plain": [
       "<Figure size 432x288 with 1 Axes>"
      ]
     },
     "metadata": {
      "needs_background": "light"
     },
     "output_type": "display_data"
    }
   ],
   "source": [
    "plt.title('$f(x)=\\int_0^x{\\sqrt{1+t^3} dt}$ by explicit Euler')\n",
    "plot_results(results_explicit)"
   ]
  },
  {
   "cell_type": "code",
   "execution_count": 104,
   "metadata": {},
   "outputs": [
    {
     "data": {
      "image/png": "[encoded data removed]",
      "text/plain": [
       "<Figure size 432x288 with 1 Axes>"
      ]
     },
     "metadata": {
      "needs_background": "light"
     },
     "output_type": "display_data"
    }
   ],
   "source": [
    "plt.title('$f(x)=\\int_0^x{\\sqrt{1+t^3} dt}$ by implicit Euler')\n",
    "plot_results(results_implicit)"
   ]
  },
  {
   "cell_type": "markdown",
   "metadata": {},
   "source": [
    "### Why we see what we see?"
   ]
  },
  {
   "cell_type": "markdown",
   "metadata": {},
   "source": []
  }
 ],
 "metadata": {
  "kernelspec": {
   "display_name": "Python 3",
   "language": "python",
   "name": "python3"
  },
  "language_info": {
   "codemirror_mode": {
    "name": "ipython",
    "version": 3
   },
   "file_extension": ".py",
   "mimetype": "text/x-python",
   "name": "python",
   "nbconvert_exporter": "python",
   "pygments_lexer": "ipython3",
   "version": "3.8.0"
  }
 },
 "nbformat": 4,
 "nbformat_minor": 4
}
